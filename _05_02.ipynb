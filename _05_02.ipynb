{
 "cells": [
  {
   "cell_type": "code",
   "execution_count": 1,
   "id": "0aaf20b5",
   "metadata": {},
   "outputs": [
    {
     "name": "stdout",
     "output_type": "stream",
     "text": [
      "10\n",
      "3.14\n",
      "Mehmet\n",
      "True\n"
     ]
    }
   ],
   "source": [
    "sayi = 10\n",
    "pi = 3.14\n",
    "isim = \"Mehmet\"\n",
    "kontrol = True\n",
    "\n",
    "print(sayi)\n",
    "print(pi)\n",
    "print(isim)\n",
    "print(kontrol)"
   ]
  },
  {
   "cell_type": "code",
   "execution_count": 4,
   "id": "f866ab34",
   "metadata": {},
   "outputs": [
    {
     "name": "stdout",
     "output_type": "stream",
     "text": [
      "<class 'int'>\n",
      "<class 'float'>\n",
      "<class 'str'>\n",
      "<class 'bool'>\n"
     ]
    }
   ],
   "source": [
    "print(type(sayi))\n",
    "print(type(pi))\n",
    "print(type(isim))\n",
    "print(type(kontrol))"
   ]
  }
 ],
 "metadata": {
  "kernelspec": {
   "display_name": "btk-akademi-programlama",
   "language": "python",
   "name": "python3"
  },
  "language_info": {
   "codemirror_mode": {
    "name": "ipython",
    "version": 3
   },
   "file_extension": ".py",
   "mimetype": "text/x-python",
   "name": "python",
   "nbconvert_exporter": "python",
   "pygments_lexer": "ipython3",
   "version": "3.12.11"
  }
 },
 "nbformat": 4,
 "nbformat_minor": 5
}
