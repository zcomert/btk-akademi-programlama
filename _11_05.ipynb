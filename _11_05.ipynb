{
 "cells": [
  {
   "cell_type": "code",
   "execution_count": 1,
   "id": "9dff769c",
   "metadata": {},
   "outputs": [
    {
     "name": "stdout",
     "output_type": "stream",
     "text": [
      "1. liste [10, 20, 30]\n",
      "2. liste [3, 5, 7]\n",
      "Birleştirilmiş liste [10, 20, 30, 3, 5, 7]\n"
     ]
    }
   ],
   "source": [
    "# girişleri al\n",
    "input_one = input(\"1. sayı listesi giriniz. (sayıları ayırmak için boşluk kullanın)\")\n",
    "input_one = [int(num) for num in input_one.split()]\n",
    "\n",
    "input_two = input(\"2. sayı listesi giriniz. (sayıları ayırmak için boşluk kullanın)\")\n",
    "input_two = [int(num) for num in input_two.split()]\n",
    "\n",
    "merged_list = input_one + input_two\n",
    "\n",
    "print(\"1. liste\",input_one)\n",
    "print(\"2. liste\",input_two)\n",
    "print(\"Birleştirilmiş liste\",merged_list)"
   ]
  }
 ],
 "metadata": {
  "kernelspec": {
   "display_name": "btk-akademi-programlama",
   "language": "python",
   "name": "python3"
  },
  "language_info": {
   "codemirror_mode": {
    "name": "ipython",
    "version": 3
   },
   "file_extension": ".py",
   "mimetype": "text/x-python",
   "name": "python",
   "nbconvert_exporter": "python",
   "pygments_lexer": "ipython3",
   "version": "3.12.11"
  }
 },
 "nbformat": 4,
 "nbformat_minor": 5
}
