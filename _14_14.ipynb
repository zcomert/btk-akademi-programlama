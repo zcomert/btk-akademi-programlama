{
 "cells": [
  {
   "cell_type": "code",
   "execution_count": 2,
   "id": "319ea0a7",
   "metadata": {},
   "outputs": [
    {
     "name": "stdout",
     "output_type": "stream",
     "text": [
      "371 listede bulunamadı.\n"
     ]
    }
   ],
   "source": [
    "numbers = [10, 25, 37, 41, 53]\n",
    "target = 371\n",
    "found = False\n",
    "\n",
    "for i in range(len(numbers)):\n",
    "    if numbers[i]==target:\n",
    "        print(f\"{target} bulundu: Indeks numarası: {i}\")\n",
    "        found = True\n",
    "        break\n",
    "\n",
    "if not found:\n",
    "    print(f\"{target} listede bulunamadı.\")"
   ]
  },
  {
   "cell_type": "code",
   "execution_count": 4,
   "id": "f41c2b17",
   "metadata": {},
   "outputs": [
    {
     "name": "stdout",
     "output_type": "stream",
     "text": [
      "Hedef bulunamadı.\n"
     ]
    }
   ],
   "source": [
    "def linear_search(input_list, target):\n",
    "    \"\"\"Doğrusal arama\n",
    "\n",
    "    Args:\n",
    "        input_list (list): Arama yapılacak liste\n",
    "        target (item): Hedef değer\n",
    "\n",
    "    Returns:\n",
    "        int: Aranan elemanın liste içerisindeki indis değeri \n",
    "    \"\"\"\n",
    "    for i in range(len(input_list)):\n",
    "        if input_list[i]==target:\n",
    "           return i \n",
    "    return -1\n",
    "\n",
    "index = linear_search(numbers, 50)\n",
    "\n",
    "if index!=-1:\n",
    "    print(f\"Hedef bulundu! Indeks: {index}.\")\n",
    "else:\n",
    "    print(\"Hedef bulunamadı.\")"
   ]
  }
 ],
 "metadata": {
  "kernelspec": {
   "display_name": "btk-akademi-programlama",
   "language": "python",
   "name": "python3"
  },
  "language_info": {
   "codemirror_mode": {
    "name": "ipython",
    "version": 3
   },
   "file_extension": ".py",
   "mimetype": "text/x-python",
   "name": "python",
   "nbconvert_exporter": "python",
   "pygments_lexer": "ipython3",
   "version": "3.12.11"
  }
 },
 "nbformat": 4,
 "nbformat_minor": 5
}
