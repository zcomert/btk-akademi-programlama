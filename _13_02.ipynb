{
 "cells": [
  {
   "cell_type": "code",
   "execution_count": 1,
   "id": "6733bf47",
   "metadata": {},
   "outputs": [
    {
     "name": "stdout",
     "output_type": "stream",
     "text": [
      "Toplam sonucu: 8\n"
     ]
    }
   ],
   "source": [
    "sum_lambda = lambda x,y : x+y\n",
    "print(\"Toplam sonucu:\", sum_lambda(3,5))"
   ]
  },
  {
   "cell_type": "code",
   "execution_count": 5,
   "id": "b983be32",
   "metadata": {},
   "outputs": [
    {
     "name": "stdout",
     "output_type": "stream",
     "text": [
      "[1, 2, 3, 4, 5]\n",
      "[2, 4, 6, 8, 10]\n"
     ]
    }
   ],
   "source": [
    "numbers = list(range(1,6))\n",
    "print(numbers)\n",
    "square = list(map(lambda x: x*2,numbers))\n",
    "print(square)"
   ]
  },
  {
   "cell_type": "code",
   "execution_count": 9,
   "id": "25c80bd5",
   "metadata": {},
   "outputs": [
    {
     "name": "stdout",
     "output_type": "stream",
     "text": [
      "[33, 40, 55]\n"
     ]
    }
   ],
   "source": [
    "numbers = [10, 15, 22, 33, 40, 55]\n",
    "filtered_numbers = list(filter(lambda x: x>30, numbers))\n",
    "print(filtered_numbers)"
   ]
  },
  {
   "cell_type": "code",
   "execution_count": 12,
   "id": "6ffc2f16",
   "metadata": {},
   "outputs": [
    {
     "name": "stdout",
     "output_type": "stream",
     "text": [
      "[1, 2, 3, 4, 5]\n",
      "120\n"
     ]
    }
   ],
   "source": [
    "from functools import reduce\n",
    "numbers = list(range(1,6))\n",
    "print(numbers)\n",
    "product = reduce(lambda x,y:x*y,numbers)\n",
    "print(product)"
   ]
  },
  {
   "cell_type": "code",
   "execution_count": null,
   "id": "a4b8efb7",
   "metadata": {},
   "outputs": [
    {
     "name": "stdout",
     "output_type": "stream",
     "text": [
      "['Aylin', 'Can']\n"
     ]
    }
   ],
   "source": [
    "names = [\"Ali\",\"aylin\",\"Fatma\",\"can\"]\n",
    "result = list(map(lambda name:name.title(),\n",
    "                  filter(lambda name: name.islower(),names)))\n",
    "print(result)"
   ]
  },
  {
   "cell_type": "code",
   "execution_count": 22,
   "id": "91889eb8",
   "metadata": {},
   "outputs": [
    {
     "name": "stdout",
     "output_type": "stream",
     "text": [
      "[1, 2, 3, 4, 5, 6, 7, 8, 9, 10]\n",
      "Çift sayılar [2, 4, 6, 8, 10]\n",
      "Tek sayılar [1, 3, 5, 7, 9]\n"
     ]
    }
   ],
   "source": [
    "numbers = list(range(1,11))\n",
    "print(numbers)\n",
    "even_numbers = list(filter(lambda x: x%2==0,numbers))\n",
    "odd_numbers = list(filter(lambda x: x%2==1, numbers))\n",
    "\n",
    "print(\"Çift sayılar\",even_numbers)\n",
    "print(\"Tek sayılar\",odd_numbers)"
   ]
  },
  {
   "cell_type": "code",
   "execution_count": 25,
   "id": "5099e9ce",
   "metadata": {},
   "outputs": [
    {
     "name": "stdout",
     "output_type": "stream",
     "text": [
      "['merhaba', 'dünya', 'python']\n",
      "[7, 5, 6]\n",
      "18\n"
     ]
    }
   ],
   "source": [
    "from functools import reduce\n",
    "words = [\"merhaba\",\"dünya\",\"python\"]\n",
    "lengths = list(map(lambda w: len(w),words))\n",
    "total_length = reduce(lambda x,y : x+y, lengths)\n",
    "\n",
    "print(words)\n",
    "print(lengths)\n",
    "print(total_length)"
   ]
  }
 ],
 "metadata": {
  "kernelspec": {
   "display_name": "btk-akademi-programlama",
   "language": "python",
   "name": "python3"
  },
  "language_info": {
   "codemirror_mode": {
    "name": "ipython",
    "version": 3
   },
   "file_extension": ".py",
   "mimetype": "text/x-python",
   "name": "python",
   "nbconvert_exporter": "python",
   "pygments_lexer": "ipython3",
   "version": "3.12.11"
  }
 },
 "nbformat": 4,
 "nbformat_minor": 5
}
