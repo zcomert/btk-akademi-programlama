{
 "cells": [
  {
   "cell_type": "code",
   "execution_count": 4,
   "id": "4b8890df",
   "metadata": {},
   "outputs": [
    {
     "name": "stdout",
     "output_type": "stream",
     "text": [
      "Hem 3'e hem de 5'e bölünebilen sayılar: [15, 30, 45]\n"
     ]
    }
   ],
   "source": [
    "# başlangıç listesi\n",
    "numbers = [10, 15, 30, 7, 41, 55, 45]\n",
    "\n",
    "# Hem 3'e hem de 5'e bölünebilen sayi listesi\n",
    "divisible_by_3_and_5 = []\n",
    "\n",
    "# Listede döngü\n",
    "for number in numbers:\n",
    "    if number %3 == 0 and number%5==0:\n",
    "        divisible_by_3_and_5.append(number)\n",
    "\n",
    "# Sonuçları göster\n",
    "print(\"Hem 3'e hem de 5'e bölünebilen sayılar:\", divisible_by_3_and_5)"
   ]
  }
 ],
 "metadata": {
  "kernelspec": {
   "display_name": "btk-akademi-programlama",
   "language": "python",
   "name": "python3"
  },
  "language_info": {
   "codemirror_mode": {
    "name": "ipython",
    "version": 3
   },
   "file_extension": ".py",
   "mimetype": "text/x-python",
   "name": "python",
   "nbconvert_exporter": "python",
   "pygments_lexer": "ipython3",
   "version": "3.12.11"
  }
 },
 "nbformat": 4,
 "nbformat_minor": 5
}
