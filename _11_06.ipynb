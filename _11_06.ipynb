{
 "cells": [
  {
   "cell_type": "code",
   "execution_count": null,
   "id": "552a57ae",
   "metadata": {},
   "outputs": [
    {
     "name": "stdout",
     "output_type": "stream",
     "text": [
      "merhaba dünya\n",
      "merhabadünya\n",
      "{'m': 1, 'e': 1, 'r': 1, 'h': 1, 'a': 3, 'b': 1, 'd': 1, 'ü': 1, 'n': 1, 'y': 1}\n",
      "* * * * * * * * * * \n",
      "En sık tekrar eden karakter a ve tekrar değeri 3\n"
     ]
    }
   ],
   "source": [
    "# Kullanıcından bir cümle al\n",
    "sentence = input(\"Bir cümle giriniz: \")\n",
    "print(sentence)\n",
    "\n",
    "# Boşlukları kaldır\n",
    "sentence = sentence.replace(\" \",\"\")\n",
    "print(sentence)\n",
    "\n",
    "# Frekans bilgisini\n",
    "frequency = {} # key-value\n",
    "\n",
    "# Cümledeki her karakteri kontrol et\n",
    "for char in sentence:\n",
    "    if char in frequency:\n",
    "        frequency[char] += 1\n",
    "    else:\n",
    "        frequency[char] = 1\n",
    "\n",
    "# en çok terkar eden elemanı bul\n",
    "most_frequency_char = ' '\n",
    "max_count = 0\n",
    "\n",
    "# bütün elemanlar (key-value) dolaşma\n",
    "for key, value in frequency.items():\n",
    "    if value > max_count:\n",
    "        max_count = value\n",
    "        most_frequency_char = key\n",
    "\n",
    "# Sonuçları yazdır. \n",
    "\n",
    "print(frequency)\n",
    "print('* '*10)\n",
    "print(f\"En sık tekrar eden karakter {most_frequency_char} ve tekrar değeri {max_count}.\")"
   ]
  }
 ],
 "metadata": {
  "kernelspec": {
   "display_name": "btk-akademi-programlama",
   "language": "python",
   "name": "python3"
  },
  "language_info": {
   "codemirror_mode": {
    "name": "ipython",
    "version": 3
   },
   "file_extension": ".py",
   "mimetype": "text/x-python",
   "name": "python",
   "nbconvert_exporter": "python",
   "pygments_lexer": "ipython3",
   "version": "3.12.11"
  }
 },
 "nbformat": 4,
 "nbformat_minor": 5
}
