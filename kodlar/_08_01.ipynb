{
 "cells": [
  {
   "cell_type": "markdown",
   "id": "0dd720af",
   "metadata": {},
   "source": [
    "## Faktöriyel Tanımı\n",
    "\n",
    "**Faktöriyel**, pozitif bir tam sayının kendisinden küçük tüm pozitif tam sayılarla çarpımını ifade eden bir matematiksel işlemdir. Matematikte $n$ sayısının faktöriyeli **$n!$** şeklinde gösterilir.\n",
    "\n",
    "Örnekler:\n",
    "\n",
    "* $0! = 1$\n",
    "* $2! = 1 \\times 2 = 2$\n",
    "* $5! = 1 \\times 2 \\times 3 \\times 4 \\times 5 = 120$\n",
    "\n",
    "Genel olarak $n$ sayısının faktöriyeli şu şekilde tanımlanır:\n",
    "\n",
    "$n! = 1 \\times 2 \\times 3 \\times \\cdots \\times n$\n",
    "\n",
    "---\n",
    "\n",
    "### Matematiksel Gösterim\n",
    "\n",
    "Faktöriyel fonksiyonu, parçalı fonksiyon olarak aşağıdaki gibi de ifade edilebilir:\n",
    "\n",
    "$$\n",
    "n! = \\begin{cases}\n",
    "1, & \\text{eğer } n = 0 \\\\\n",
    "\\prod_{k=1}^{n} k, & \\text{eğer } n \\geq 1\n",
    "\\end{cases}\n",
    "$$"
   ]
  },
  {
   "cell_type": "markdown",
   "id": "bfd62348",
   "metadata": {},
   "source": [
    "<!-- ![Faktöriyel Problemi Akış Şeması](akis-semalari/faktoriyel-problemi.png) -->\n",
    "<center>\n",
    "<img src=\"akis-semalari/faktoriyel-problemi.png\" width=\"500px\">\n",
    "</center>"
   ]
  },
  {
   "cell_type": "code",
   "execution_count": 4,
   "id": "39cb43b9",
   "metadata": {},
   "outputs": [
    {
     "name": "stdout",
     "output_type": "stream",
     "text": [
      "Hata: Negatif sayılar için faktöriyel hesaplanmaz.\n"
     ]
    }
   ],
   "source": [
    "n = int(input(\"n değerini giriniz (Pozitif tam sayı olmalı)\"))\n",
    "\n",
    "if n<0:\n",
    "    print(\"Hata: Negatif sayılar için faktöriyel hesaplanmaz.\")\n",
    "else:\n",
    "    faktoriyel = 1\n",
    "    for i in range(1, n+1):\n",
    "        faktoriyel *= i\n",
    "    \n",
    "    print(f\"{n}! = {faktoriyel}\")"
   ]
  }
 ],
 "metadata": {
  "kernelspec": {
   "display_name": "btk-akademi-programlama",
   "language": "python",
   "name": "python3"
  },
  "language_info": {
   "codemirror_mode": {
    "name": "ipython",
    "version": 3
   },
   "file_extension": ".py",
   "mimetype": "text/x-python",
   "name": "python",
   "nbconvert_exporter": "python",
   "pygments_lexer": "ipython3",
   "version": "3.12.11"
  }
 },
 "nbformat": 4,
 "nbformat_minor": 5
}
