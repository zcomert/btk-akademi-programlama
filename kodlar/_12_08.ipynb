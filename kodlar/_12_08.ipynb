{
 "cells": [
  {
   "cell_type": "code",
   "execution_count": 3,
   "id": "87a51c2e",
   "metadata": {},
   "outputs": [
    {
     "name": "stdout",
     "output_type": "stream",
     "text": [
      "- Armut\n",
      "- Elma\n",
      "- Karpuz\n",
      "- Muz\n"
     ]
    }
   ],
   "source": [
    "# girişi al\n",
    "items = input(\"Lütfen alışveriş listesindeki ürünleri giriniz (virgülle ayırınız)\")\n",
    "\n",
    "# ürün listesini oluştur\n",
    "items_list = items.split(',')\n",
    "\n",
    "# temiz liste\n",
    "cleaned_list = []\n",
    "\n",
    "# ürünleri temizle\n",
    "for item in items_list:\n",
    "    cleaned_list.append(item.strip().lower())\n",
    "    \n",
    "# sıralama\n",
    "sorted_list = sorted(cleaned_list)\n",
    "\n",
    "# çıktı\n",
    "for item in sorted_list:\n",
    "    print(f\"- {item.title()}\")"
   ]
  }
 ],
 "metadata": {
  "kernelspec": {
   "display_name": "btk-akademi-programlama",
   "language": "python",
   "name": "python3"
  },
  "language_info": {
   "codemirror_mode": {
    "name": "ipython",
    "version": 3
   },
   "file_extension": ".py",
   "mimetype": "text/x-python",
   "name": "python",
   "nbconvert_exporter": "python",
   "pygments_lexer": "ipython3",
   "version": "3.12.11"
  }
 },
 "nbformat": 4,
 "nbformat_minor": 5
}
