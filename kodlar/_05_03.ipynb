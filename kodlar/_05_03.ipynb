{
 "cells": [
  {
   "cell_type": "code",
   "execution_count": 38,
   "id": "afd995f6",
   "metadata": {},
   "outputs": [
    {
     "name": "stdout",
     "output_type": "stream",
     "text": [
      "a/b =  3.3333333333333335\n",
      "a//b = 3\n",
      "a+b = 13\n",
      "a-b = 7\n"
     ]
    }
   ],
   "source": [
    "a = 10\n",
    "b = 3\n",
    "\n",
    "print(\"a/b = \",a/b)\n",
    "print(\"a//b =\",a//b)\n",
    "print(\"a+b =\",a+b)\n",
    "print(\"a-b =\",a-b)"
   ]
  },
  {
   "cell_type": "code",
   "execution_count": 39,
   "id": "fa44a612",
   "metadata": {},
   "outputs": [
    {
     "name": "stdout",
     "output_type": "stream",
     "text": [
      "x>y True\n",
      "x<y False\n",
      "x=y False\n",
      "x>=y True\n",
      "x!=y True\n"
     ]
    }
   ],
   "source": [
    "x = 7\n",
    "y = 5\n",
    "print(\"x>y\", x>y)\n",
    "print(\"x<y\", x<y)\n",
    "print(\"x=y\", x==y)\n",
    "print(\"x>=y\", x>=y)\n",
    "print(\"x!=y\", x!=y)"
   ]
  },
  {
   "cell_type": "code",
   "execution_count": 40,
   "id": "939c451d",
   "metadata": {},
   "outputs": [
    {
     "name": "stdout",
     "output_type": "stream",
     "text": [
      "False\n"
     ]
    }
   ],
   "source": [
    "yas = 18 \n",
    "mezuniyet = \"lise\"\n",
    "print(yas>18 and mezuniyet==\"lise\")"
   ]
  },
  {
   "cell_type": "code",
   "execution_count": 41,
   "id": "51dd395f",
   "metadata": {},
   "outputs": [
    {
     "name": "stdout",
     "output_type": "stream",
     "text": [
      "True\n"
     ]
    }
   ],
   "source": [
    "sayi1 = 10\n",
    "sayi2 = sayi1\n",
    "\n",
    "sayi1 = sayi1 + 2 \n",
    "sayi2 +=2 \n",
    "\n",
    "print(sayi1==sayi2)"
   ]
  },
  {
   "cell_type": "code",
   "execution_count": 42,
   "id": "5943dd27",
   "metadata": {},
   "outputs": [
    {
     "name": "stdout",
     "output_type": "stream",
     "text": [
      "Merhaba, Ahmet.\n",
      "<class 'str'>\n"
     ]
    }
   ],
   "source": [
    "isim = input(\"Lütfen isminizi giriniz: \")\n",
    "print(\"Merhaba, \" + isim + \".\")\n",
    "print(type(isim))"
   ]
  },
  {
   "cell_type": "code",
   "execution_count": 43,
   "id": "20232715",
   "metadata": {},
   "outputs": [
    {
     "name": "stdout",
     "output_type": "stream",
     "text": [
      "110\n"
     ]
    }
   ],
   "source": [
    "sayi = int(input(\"Bir sayı giriniz: \"))\n",
    "print(sayi+100)"
   ]
  },
  {
   "cell_type": "code",
   "execution_count": 44,
   "id": "65fd6c2c",
   "metadata": {},
   "outputs": [
    {
     "name": "stdout",
     "output_type": "stream",
     "text": [
      "Ahmet 10 12 12\n"
     ]
    }
   ],
   "source": [
    "print(isim, sayi, sayi1, sayi2)"
   ]
  },
  {
   "cell_type": "code",
   "execution_count": 45,
   "id": "07590301",
   "metadata": {},
   "outputs": [
    {
     "name": "stdout",
     "output_type": "stream",
     "text": [
      "Help on built-in function print in module builtins:\n",
      "\n",
      "print(*args, sep=' ', end='\\n', file=None, flush=False)\n",
      "    Prints the values to a stream, or to sys.stdout by default.\n",
      "\n",
      "    sep\n",
      "      string inserted between values, default a space.\n",
      "    end\n",
      "      string appended after the last value, default a newline.\n",
      "    file\n",
      "      a file-like object (stream); defaults to the current sys.stdout.\n",
      "    flush\n",
      "      whether to forcibly flush the stream.\n",
      "\n"
     ]
    }
   ],
   "source": [
    "help(print)"
   ]
  },
  {
   "cell_type": "code",
   "execution_count": 49,
   "id": "1e3e6679",
   "metadata": {},
   "outputs": [
    {
     "name": "stdout",
     "output_type": "stream",
     "text": [
      "Ocak Şubat Mart...Ahmet-10-12-12\n"
     ]
    }
   ],
   "source": [
    "print(\"Ocak\",\"Şubat\",\"Mart\", end=\"...\")\n",
    "print(isim, sayi, sayi1, sayi2, sep='-')"
   ]
  },
  {
   "cell_type": "code",
   "execution_count": 57,
   "id": "126b934d",
   "metadata": {},
   "outputs": [
    {
     "name": "stdout",
     "output_type": "stream",
     "text": [
      "Ürün: Kalem Fiyatı: 15.5\n",
      "Ürün: Kalem Fiyatı: 15.5\n",
      "Ürün: Kalem Fiyatı: 15.50\n"
     ]
    }
   ],
   "source": [
    "urun = \"Kalem\"\n",
    "fiyat = 15.5\n",
    "\n",
    "print(\"Ürün: \" + urun + \" Fiyatı:\", fiyat)\n",
    "print(\"Ürün: {} Fiyatı: {}\".format(urun, fiyat))\n",
    "print(f\"Ürün: {urun} Fiyatı: {fiyat:.2f}\")"
   ]
  }
 ],
 "metadata": {
  "kernelspec": {
   "display_name": "btk-akademi-programlama",
   "language": "python",
   "name": "python3"
  },
  "language_info": {
   "codemirror_mode": {
    "name": "ipython",
    "version": 3
   },
   "file_extension": ".py",
   "mimetype": "text/x-python",
   "name": "python",
   "nbconvert_exporter": "python",
   "pygments_lexer": "ipython3",
   "version": "3.12.11"
  }
 },
 "nbformat": 4,
 "nbformat_minor": 5
}
