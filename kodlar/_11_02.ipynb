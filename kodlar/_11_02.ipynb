{
 "cells": [
  {
   "cell_type": "code",
   "execution_count": 8,
   "id": "9c35336f",
   "metadata": {},
   "outputs": [
    {
     "name": "stdout",
     "output_type": "stream",
     "text": [
      "Sıfır herhangi bir listeye eklenmedi!\n",
      "Pozitif sayılar: [5, 10]\n",
      "Negatif sayılar: [-4, -22]\n"
     ]
    }
   ],
   "source": [
    "# girisler\n",
    "numbers = input(\"Sayıları bir boşluk karakteri bırakarak giriniz: (10 20 ...)\")\n",
    "# tip dönüşümü\n",
    "number_list = [int(num) for num in numbers.split()]\n",
    "number_list\n",
    "\n",
    "# pozitif sayılar için liste\n",
    "positive_numbers = []\n",
    "\n",
    "# negatif sayılar için liste\n",
    "negative_numbers = []\n",
    "\n",
    "# her bir sayı kontrol\n",
    "for number in number_list:\n",
    "    if number > 0:\n",
    "        positive_numbers.append(number)\n",
    "    elif number<0:\n",
    "        negative_numbers.append(number)\n",
    "    else:\n",
    "        print(\"Sıfır herhangi bir listeye eklenmedi!\")\n",
    "\n",
    "# sonuçları göster\n",
    "print(\"Pozitif sayılar:\", positive_numbers)\n",
    "print(\"Negatif sayılar:\", negative_numbers)"
   ]
  },
  {
   "cell_type": "code",
   "execution_count": null,
   "id": "e2d0c599",
   "metadata": {},
   "outputs": [
    {
     "name": "stdout",
     "output_type": "stream",
     "text": [
      "10 20 30\n",
      "<class 'str'>\n"
     ]
    }
   ],
   "source": [
    "print(numbers)\n",
    "print(type(numbers))\n",
    "\n",
    "temp = numbers.split()\n",
    "temp\n",
    "\n",
    "nums = []\n",
    "for item in temp:\n",
    "    num = int(item)\n",
    "    nums.append(num)\n",
    "nums "
   ]
  }
 ],
 "metadata": {
  "kernelspec": {
   "display_name": "btk-akademi-programlama",
   "language": "python",
   "name": "python3"
  },
  "language_info": {
   "codemirror_mode": {
    "name": "ipython",
    "version": 3
   },
   "file_extension": ".py",
   "mimetype": "text/x-python",
   "name": "python",
   "nbconvert_exporter": "python",
   "pygments_lexer": "ipython3",
   "version": "3.12.11"
  }
 },
 "nbformat": 4,
 "nbformat_minor": 5
}
