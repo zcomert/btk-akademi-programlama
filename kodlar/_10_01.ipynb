{
 "cells": [
  {
   "cell_type": "code",
   "execution_count": 35,
   "id": "5755f50e",
   "metadata": {},
   "outputs": [],
   "source": [
    "matris = [[1,2,3],\n",
    "          [4,5,6]]"
   ]
  },
  {
   "cell_type": "code",
   "execution_count": 36,
   "id": "a7be1a7d",
   "metadata": {},
   "outputs": [
    {
     "data": {
      "text/plain": [
       "[1, 2, 3]"
      ]
     },
     "execution_count": 36,
     "metadata": {},
     "output_type": "execute_result"
    }
   ],
   "source": [
    "matris[0]"
   ]
  },
  {
   "cell_type": "code",
   "execution_count": 37,
   "id": "85943231",
   "metadata": {},
   "outputs": [
    {
     "data": {
      "text/plain": [
       "[4, 5, 6]"
      ]
     },
     "execution_count": 37,
     "metadata": {},
     "output_type": "execute_result"
    }
   ],
   "source": [
    "matris[1]"
   ]
  },
  {
   "cell_type": "code",
   "execution_count": 38,
   "id": "18cfeaca",
   "metadata": {},
   "outputs": [
    {
     "data": {
      "text/plain": [
       "[[1, 2, 3], [2, 3, 4]]"
      ]
     },
     "execution_count": 38,
     "metadata": {},
     "output_type": "execute_result"
    }
   ],
   "source": [
    "matris = []\n",
    "matris.append([1,2,3])\n",
    "matris.append([2,3,4])\n",
    "matris"
   ]
  },
  {
   "cell_type": "code",
   "execution_count": 39,
   "id": "0416a4a7",
   "metadata": {},
   "outputs": [
    {
     "name": "stdout",
     "output_type": "stream",
     "text": [
      "[[1, 2, 3], [4, 5, 6]]\n"
     ]
    }
   ],
   "source": [
    "numbers = list(range(1,7))\n",
    "matris = [[0,0,0],[0,0,0]]\n",
    "p = 0\n",
    "for i in range(2):\n",
    "    for j in range(3):\n",
    "        matris[i][j] = numbers[p]\n",
    "        p+=1\n",
    "\n",
    "print(matris)"
   ]
  },
  {
   "cell_type": "code",
   "execution_count": 40,
   "id": "3b15efbb",
   "metadata": {},
   "outputs": [
    {
     "name": "stdout",
     "output_type": "stream",
     "text": [
      "   1   2   3\n",
      "   4   5   6\n"
     ]
    }
   ],
   "source": [
    "for i in range(len(matris)): # satır\n",
    "    for j in range(len(matris[0])): # sütun\n",
    "        print(f\"{matris[i][j]:4d}\", end='')\n",
    "    print(\"\")"
   ]
  },
  {
   "cell_type": "code",
   "execution_count": 41,
   "id": "f350943d",
   "metadata": {},
   "outputs": [
    {
     "data": {
      "text/plain": [
       "[[1, 2, 3], [4, 5, 6]]"
      ]
     },
     "execution_count": 41,
     "metadata": {},
     "output_type": "execute_result"
    }
   ],
   "source": [
    "matris"
   ]
  },
  {
   "cell_type": "code",
   "execution_count": 42,
   "id": "9e957efd",
   "metadata": {},
   "outputs": [
    {
     "name": "stdout",
     "output_type": "stream",
     "text": [
      "Satır sayısı:2\n",
      "Sütun sayısı:3\n"
     ]
    }
   ],
   "source": [
    "print(f\"Satır sayısı:{len(matris)}\")\n",
    "print(f\"Sütun sayısı:{len(matris[0])}\")"
   ]
  }
 ],
 "metadata": {
  "kernelspec": {
   "display_name": "btk-akademi-programlama",
   "language": "python",
   "name": "python3"
  },
  "language_info": {
   "codemirror_mode": {
    "name": "ipython",
    "version": 3
   },
   "file_extension": ".py",
   "mimetype": "text/x-python",
   "name": "python",
   "nbconvert_exporter": "python",
   "pygments_lexer": "ipython3",
   "version": "3.12.11"
  }
 },
 "nbformat": 4,
 "nbformat_minor": 5
}
