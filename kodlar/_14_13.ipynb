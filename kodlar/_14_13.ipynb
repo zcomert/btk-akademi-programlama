{
 "cells": [
  {
   "cell_type": "code",
   "execution_count": 2,
   "id": "18676ad5",
   "metadata": {},
   "outputs": [
    {
     "name": "stdout",
     "output_type": "stream",
     "text": [
      "Liste [13, 23, 44, 55, 6, 32, 61]\n",
      "Sıralı liste [6, 13, 23, 32, 44, 55, 61]\n"
     ]
    }
   ],
   "source": [
    "def merge_sort(arr):\n",
    "    # temel koşul\n",
    "    if len(arr)<=1:\n",
    "        return arr\n",
    "    \n",
    "    mid = len(arr)//2\n",
    "    left_half = merge_sort(arr[:mid])\n",
    "    right_half = merge_sort(arr[mid:])\n",
    "    \n",
    "    return merge(left_half, right_half)\n",
    "    \n",
    "def merge(left, right):\n",
    "    result = []\n",
    "    i = j = 0\n",
    "    \n",
    "    # sıralı bir şekilde birleştirme işlemi\n",
    "    while i<len(left) and j < len(right):\n",
    "        if left[i]<right[j]:\n",
    "            result.append(left[i])\n",
    "            i+=1\n",
    "        else:\n",
    "            result.append(right[j])\n",
    "            j+=1\n",
    "    \n",
    "    # Geriye kalan elemanları ekle\n",
    "    result.extend(left[i:])\n",
    "    result.extend(right[j:])\n",
    "    \n",
    "    return result\n",
    "\n",
    "\n",
    "numbers = [13, 23, 44, 55, 6, 32, 61]\n",
    "print(\"Liste\", numbers)\n",
    "print(\"Sıralı liste\", merge_sort(numbers))"
   ]
  }
 ],
 "metadata": {
  "kernelspec": {
   "display_name": "btk-akademi-programlama",
   "language": "python",
   "name": "python3"
  },
  "language_info": {
   "codemirror_mode": {
    "name": "ipython",
    "version": 3
   },
   "file_extension": ".py",
   "mimetype": "text/x-python",
   "name": "python",
   "nbconvert_exporter": "python",
   "pygments_lexer": "ipython3",
   "version": "3.12.11"
  }
 },
 "nbformat": 4,
 "nbformat_minor": 5
}
