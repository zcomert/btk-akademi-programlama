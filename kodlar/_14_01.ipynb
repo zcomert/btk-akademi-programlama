{
 "cells": [
  {
   "cell_type": "code",
   "execution_count": 1,
   "id": "6aa220d1",
   "metadata": {},
   "outputs": [
    {
     "name": "stdout",
     "output_type": "stream",
     "text": [
      "5! = 120\n"
     ]
    }
   ],
   "source": [
    "number = 5\n",
    "result = 1\n",
    "\n",
    "for i in range(1, number+1):\n",
    "    result *= i \n",
    "\n",
    "print(f\"{number}! = {result}\")"
   ]
  },
  {
   "cell_type": "code",
   "execution_count": 2,
   "id": "0f4f9556",
   "metadata": {},
   "outputs": [
    {
     "name": "stdout",
     "output_type": "stream",
     "text": [
      "120\n",
      "6\n"
     ]
    }
   ],
   "source": [
    "def calculate_factorial(n):\n",
    "    result = 1\n",
    "    for i in range(1, n+1):\n",
    "        result *= i\n",
    "    return result\n",
    "\n",
    "print(calculate_factorial(5))\n",
    "print(calculate_factorial(3))"
   ]
  },
  {
   "cell_type": "code",
   "execution_count": 3,
   "id": "0d38ea77",
   "metadata": {},
   "outputs": [
    {
     "name": "stdout",
     "output_type": "stream",
     "text": [
      "120\n",
      "6\n"
     ]
    }
   ],
   "source": [
    "def recursive_factorial(n):\n",
    "    # temel koşul (base case)\n",
    "    if n==0 or n==1:\n",
    "        return 1\n",
    "    return n * recursive_factorial(n-1)\n",
    "\n",
    "print(recursive_factorial(5))\n",
    "print(recursive_factorial(3))"
   ]
  }
 ],
 "metadata": {
  "kernelspec": {
   "display_name": "btk-akademi-programlama",
   "language": "python",
   "name": "python3"
  },
  "language_info": {
   "codemirror_mode": {
    "name": "ipython",
    "version": 3
   },
   "file_extension": ".py",
   "mimetype": "text/x-python",
   "name": "python",
   "nbconvert_exporter": "python",
   "pygments_lexer": "ipython3",
   "version": "3.12.11"
  }
 },
 "nbformat": 4,
 "nbformat_minor": 5
}
