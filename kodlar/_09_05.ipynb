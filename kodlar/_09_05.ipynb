{
 "cells": [
  {
   "cell_type": "code",
   "execution_count": 6,
   "id": "973a0677",
   "metadata": {},
   "outputs": [
    {
     "name": "stdout",
     "output_type": "stream",
     "text": [
      "En büyük sayı: 99\n"
     ]
    }
   ],
   "source": [
    "sayilar = [12, 5 ,99, 27, 14]\n",
    "\n",
    "buyuk = sayilar[0]\n",
    "\n",
    "for sayi in sayilar:\n",
    "    if sayi>buyuk:\n",
    "        buyuk = sayi\n",
    "\n",
    "print(f\"En büyük sayı: {buyuk}\")"
   ]
  },
  {
   "cell_type": "code",
   "execution_count": 7,
   "id": "fc601aa9",
   "metadata": {},
   "outputs": [
    {
     "data": {
      "text/plain": [
       "5"
      ]
     },
     "execution_count": 7,
     "metadata": {},
     "output_type": "execute_result"
    }
   ],
   "source": [
    "min(sayilar)"
   ]
  },
  {
   "cell_type": "code",
   "execution_count": 8,
   "id": "f9c0af88",
   "metadata": {},
   "outputs": [
    {
     "data": {
      "text/plain": [
       "99"
      ]
     },
     "execution_count": 8,
     "metadata": {},
     "output_type": "execute_result"
    }
   ],
   "source": [
    "max(sayilar)"
   ]
  },
  {
   "cell_type": "code",
   "execution_count": 9,
   "id": "c17f87eb",
   "metadata": {},
   "outputs": [
    {
     "data": {
      "text/plain": [
       "157"
      ]
     },
     "execution_count": 9,
     "metadata": {},
     "output_type": "execute_result"
    }
   ],
   "source": [
    "sum(sayilar)"
   ]
  }
 ],
 "metadata": {
  "kernelspec": {
   "display_name": "btk-akademi-programlama",
   "language": "python",
   "name": "python3"
  },
  "language_info": {
   "codemirror_mode": {
    "name": "ipython",
    "version": 3
   },
   "file_extension": ".py",
   "mimetype": "text/x-python",
   "name": "python",
   "nbconvert_exporter": "python",
   "pygments_lexer": "ipython3",
   "version": "3.12.11"
  }
 },
 "nbformat": 4,
 "nbformat_minor": 5
}
