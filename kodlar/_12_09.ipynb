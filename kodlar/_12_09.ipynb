{
 "cells": [
  {
   "cell_type": "code",
   "execution_count": 5,
   "id": "39207d25",
   "metadata": {},
   "outputs": [
    {
     "name": "stdout",
     "output_type": "stream",
     "text": [
      "Girilen ifade: BTK AKADEMI\n",
      "Şifrelenmiş ifade: EWN DNDGHPL\n"
     ]
    }
   ],
   "source": [
    "text = input(\"Lütfen şifrelenecek metini giriniz\")\n",
    "shift = int(input(\"Kaç harf kaydırılsın? (örn:3)\"))\n",
    "\n",
    "text = text.upper()\n",
    "encryted_text = \"\"\n",
    "\n",
    "for char in text:\n",
    "    if char.isalpha():\n",
    "        new_char_code = ord(char) + shift\n",
    "        if new_char_code > ord('Z'):\n",
    "            new_char_code = ord('A') + (new_char_code-ord('Z')-1)\n",
    "        encryted_text += chr(new_char_code)\n",
    "    else:\n",
    "        encryted_text += char\n",
    "\n",
    "print(f\"Girilen ifade: {text}\")\n",
    "print(f\"Şifrelenmiş ifade: {encryted_text}\")"
   ]
  }
 ],
 "metadata": {
  "kernelspec": {
   "display_name": "btk-akademi-programlama",
   "language": "python",
   "name": "python3"
  },
  "language_info": {
   "codemirror_mode": {
    "name": "ipython",
    "version": 3
   },
   "file_extension": ".py",
   "mimetype": "text/x-python",
   "name": "python",
   "nbconvert_exporter": "python",
   "pygments_lexer": "ipython3",
   "version": "3.12.11"
  }
 },
 "nbformat": 4,
 "nbformat_minor": 5
}
