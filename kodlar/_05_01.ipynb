{
 "cells": [
  {
   "cell_type": "code",
   "execution_count": 1,
   "id": "fc7895c5",
   "metadata": {},
   "outputs": [],
   "source": [
    "var1 = 5\n",
    "var2 = 5.0\n",
    "var3 = \"5\"\n",
    "var4 = 5==5"
   ]
  },
  {
   "cell_type": "code",
   "execution_count": 3,
   "id": "dbd9ebff",
   "metadata": {},
   "outputs": [
    {
     "name": "stdout",
     "output_type": "stream",
     "text": [
      "5\n",
      "5.0\n",
      "5\n",
      "True\n"
     ]
    }
   ],
   "source": [
    "print(var1)\n",
    "print(var2)\n",
    "print(var3)\n",
    "print(var4)"
   ]
  },
  {
   "cell_type": "code",
   "execution_count": 7,
   "id": "54ad332a",
   "metadata": {},
   "outputs": [
    {
     "name": "stdout",
     "output_type": "stream",
     "text": [
      "<class 'int'>\n",
      "<class 'float'>\n",
      "<class 'str'>\n",
      "<class 'bool'>\n"
     ]
    }
   ],
   "source": [
    "print(type(var1))\n",
    "print(type(var2))\n",
    "print(type(var3))\n",
    "print(type(var4))"
   ]
  },
  {
   "cell_type": "code",
   "execution_count": 9,
   "id": "7906fb63",
   "metadata": {},
   "outputs": [
    {
     "data": {
      "text/plain": [
       "10"
      ]
     },
     "execution_count": 9,
     "metadata": {},
     "output_type": "execute_result"
    }
   ],
   "source": [
    "var1*2"
   ]
  },
  {
   "cell_type": "code",
   "execution_count": 10,
   "id": "16b3b92d",
   "metadata": {},
   "outputs": [
    {
     "data": {
      "text/plain": [
       "10.0"
      ]
     },
     "execution_count": 10,
     "metadata": {},
     "output_type": "execute_result"
    }
   ],
   "source": [
    "var2*2"
   ]
  },
  {
   "cell_type": "code",
   "execution_count": 13,
   "id": "8b758755",
   "metadata": {},
   "outputs": [
    {
     "data": {
      "text/plain": [
       "'55'"
      ]
     },
     "execution_count": 13,
     "metadata": {},
     "output_type": "execute_result"
    }
   ],
   "source": [
    "var3*2"
   ]
  },
  {
   "cell_type": "code",
   "execution_count": 16,
   "id": "bb8321fa",
   "metadata": {},
   "outputs": [
    {
     "data": {
      "text/plain": [
       "2"
      ]
     },
     "execution_count": 16,
     "metadata": {},
     "output_type": "execute_result"
    }
   ],
   "source": [
    "var4*2"
   ]
  }
 ],
 "metadata": {
  "kernelspec": {
   "display_name": "btk-akademi-programlama",
   "language": "python",
   "name": "python3"
  },
  "language_info": {
   "codemirror_mode": {
    "name": "ipython",
    "version": 3
   },
   "file_extension": ".py",
   "mimetype": "text/x-python",
   "name": "python",
   "nbconvert_exporter": "python",
   "pygments_lexer": "ipython3",
   "version": "3.12.11"
  }
 },
 "nbformat": 4,
 "nbformat_minor": 5
}
