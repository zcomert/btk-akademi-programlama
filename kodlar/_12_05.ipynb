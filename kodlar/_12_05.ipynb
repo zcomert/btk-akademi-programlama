{
 "cells": [
  {
   "cell_type": "code",
   "execution_count": null,
   "id": "702c9556",
   "metadata": {},
   "outputs": [],
   "source": [
    "print(\"YapayZeka\".isalpha())\n",
    "print(\"2026\".isdigit())\n",
    "print(\"YapayZeka2026\".isalnum())\n",
    "print(\" \".isspace())"
   ]
  },
  {
   "cell_type": "code",
   "execution_count": null,
   "id": "c4cff226",
   "metadata": {},
   "outputs": [],
   "source": [
    "print(\"elma\"==\"elma\")\n",
    "print(\"elma\"!=\"armut\")      \n",
    "print(\"ali\"<\"zafer\")        # a < z\n",
    "print(\"Zebra\">\"Tavşan\")     # Z > T"
   ]
  },
  {
   "cell_type": "code",
   "execution_count": null,
   "id": "bb89256b",
   "metadata": {},
   "outputs": [],
   "source": [
    "user_name = input(\"Kullanıcı adını giriniz: \")\n",
    "if user_name.isalnum() and len(user_name) >= 5:\n",
    "    print(\"Geçerli\")\n",
    "else:\n",
    "    print(\"Geçersiz!\")"
   ]
  },
  {
   "cell_type": "code",
   "execution_count": null,
   "id": "0c5df7d2",
   "metadata": {},
   "outputs": [],
   "source": [
    "a = \"Python\"\n",
    "b = \"python\"\n",
    "print(a==b)\n",
    "print(a.lower()==b.lower())"
   ]
  },
  {
   "cell_type": "code",
   "execution_count": null,
   "id": "50e35975",
   "metadata": {},
   "outputs": [],
   "source": [
    "exp = input(\"Bir cümle yazınız\")\n",
    "harf = input(\"Aranan harfi giriniz\")\n",
    "\n",
    "sayac = 0\n",
    "\n",
    "for char in exp:\n",
    "    if char.lower() == harf.lower():\n",
    "        sayac+=1\n",
    "\n",
    "print(f\"{harf} harfi {sayac} kez ilgili ifadede geçiyor.\")"
   ]
  },
  {
   "cell_type": "code",
   "execution_count": null,
   "id": "8f5041e8",
   "metadata": {},
   "outputs": [],
   "source": [
    "exp = \"Programlama Öğreniyor\".lower()\n",
    "i=0\n",
    "while i<len(exp):\n",
    "    print(f\"{i}. indeks: {exp[i]}\")\n",
    "    i+=1"
   ]
  },
  {
   "cell_type": "code",
   "execution_count": null,
   "id": "f3659a98",
   "metadata": {},
   "outputs": [],
   "source": [
    "# Girdi Yapay Zeka 2025 \n",
    "# Çıktı Yapay Zeka\n",
    "exp = input(\"Bir cümle giriniz\")\n",
    "result = \"\"\n",
    "for char in exp: \n",
    "    if char.isdigit():\n",
    "        continue\n",
    "    result += char\n",
    "print(result)"
   ]
  }
 ],
 "metadata": {
  "kernelspec": {
   "display_name": "btk-akademi-programlama",
   "language": "python",
   "name": "python3"
  },
  "language_info": {
   "codemirror_mode": {
    "name": "ipython",
    "version": 3
   },
   "file_extension": ".py",
   "mimetype": "text/x-python",
   "name": "python",
   "nbconvert_exporter": "python",
   "pygments_lexer": "ipython3",
   "version": "3.12.11"
  }
 },
 "nbformat": 4,
 "nbformat_minor": 5
}
