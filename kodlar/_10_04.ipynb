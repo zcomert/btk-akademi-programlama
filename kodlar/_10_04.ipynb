{
 "cells": [
  {
   "cell_type": "code",
   "execution_count": null,
   "id": "8a433187",
   "metadata": {},
   "outputs": [
    {
     "name": "stdout",
     "output_type": "stream",
     "text": [
      "[[1, 2, 3], [4, 5, 6], [7, 8, 9]]\n",
      "Diyagonel elemanlar: [1, 5, 9]\n",
      "Diyagonel toplam: 15\n"
     ]
    }
   ],
   "source": [
    "n = int(input(\"Boyut için n değeri giriniz\"))\n",
    "diag = []\n",
    "matris = [[0 for i in range(n)] for j in range(n)]\n",
    "c = 1\n",
    "for i in range(n):\n",
    "    for j in range(n):\n",
    "        matris[i][j] = c\n",
    "        c+=1\n",
    "print(matris)\n",
    "\n",
    "for i in range(len(matris)):\n",
    "    diag.append(matris[i][i])\n",
    "print(\"Diyagonel elemanlar:\", diag)\n",
    "print(\"Diyagonel toplam:\", sum(diag))"
   ]
  }
 ],
 "metadata": {
  "kernelspec": {
   "display_name": "btk-akademi-programlama",
   "language": "python",
   "name": "python3"
  },
  "language_info": {
   "codemirror_mode": {
    "name": "ipython",
    "version": 3
   },
   "file_extension": ".py",
   "mimetype": "text/x-python",
   "name": "python",
   "nbconvert_exporter": "python",
   "pygments_lexer": "ipython3",
   "version": "3.12.11"
  }
 },
 "nbformat": 4,
 "nbformat_minor": 5
}
