{
 "cells": [
  {
   "cell_type": "code",
   "execution_count": 1,
   "id": "09759059",
   "metadata": {},
   "outputs": [
    {
     "name": "stdout",
     "output_type": "stream",
     "text": [
      "[5, 6, 11, 12, 13]\n"
     ]
    }
   ],
   "source": [
    "numbers = [12, 11, 13, 5, 6]\n",
    "\n",
    "for i in range(1,len(numbers)):\n",
    "    key = numbers[i]\n",
    "    j = i-1\n",
    "    \n",
    "    while j>=0 and numbers[j]>key:\n",
    "        numbers[j+1] = numbers[j]\n",
    "        j-=1\n",
    "    numbers[j+1] = key\n",
    "\n",
    "print(numbers)"
   ]
  },
  {
   "cell_type": "code",
   "execution_count": 2,
   "id": "e51c4138",
   "metadata": {},
   "outputs": [
    {
     "name": "stdout",
     "output_type": "stream",
     "text": [
      "Liste [5, 7, 9, 1, 10]\n",
      "Sıralı Liste [1, 5, 7, 9, 10]\n"
     ]
    }
   ],
   "source": [
    "def insertion_sort(numbers):\n",
    "    \"\"\"Eklemeli (insertion sort) sıralama algoritmasıdır.\n",
    "\n",
    "    Args:\n",
    "        numbers (list): Sıralanacak liste\n",
    "\n",
    "    Returns:\n",
    "        list: Sıralı liste\n",
    "    \"\"\"\n",
    "    for i in range(1,len(numbers)):\n",
    "        key = numbers[i]\n",
    "        j = i-1\n",
    "        \n",
    "        while j>=0 and numbers[j]>key:\n",
    "            numbers[j+1] = numbers[j]\n",
    "            j-=1\n",
    "        numbers[j+1] = key\n",
    "    return numbers\n",
    "\n",
    "numbers = [5,7,9,1,10]\n",
    "print(\"Liste\", numbers)\n",
    "print(\"Sıralı Liste\", insertion_sort(numbers))\n"
   ]
  }
 ],
 "metadata": {
  "kernelspec": {
   "display_name": "btk-akademi-programlama",
   "language": "python",
   "name": "python3"
  },
  "language_info": {
   "codemirror_mode": {
    "name": "ipython",
    "version": 3
   },
   "file_extension": ".py",
   "mimetype": "text/x-python",
   "name": "python",
   "nbconvert_exporter": "python",
   "pygments_lexer": "ipython3",
   "version": "3.12.11"
  }
 },
 "nbformat": 4,
 "nbformat_minor": 5
}
