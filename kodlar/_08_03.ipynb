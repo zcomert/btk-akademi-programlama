{
 "cells": [
  {
   "cell_type": "markdown",
   "id": "9ca9a3dd",
   "metadata": {},
   "source": [
    "##  Sayı Tahmini\n",
    "---\n",
    "<center>\n",
    "<img src=\"akis-semalari/sayi-tahmini.png\" width=\"500px\" />\n",
    "</center>"
   ]
  },
  {
   "cell_type": "code",
   "execution_count": 9,
   "id": "c53e3de4",
   "metadata": {},
   "outputs": [
    {
     "name": "stdout",
     "output_type": "stream",
     "text": [
      "Daha büyük bir tahmin yapınız.\n",
      "Daha büyük bir tahmin yapınız.\n",
      "Daha küçük bir tahmin yapınız.\n",
      "Daha büyük bir tahmin yapınız.\n",
      "Tebrikler! 5 adımda tahmin ettiniz.\n"
     ]
    }
   ],
   "source": [
    "import random\n",
    "\n",
    "gizli_sayi = random.randint(1,100)\n",
    "\n",
    "deneme_sayisi = 0\n",
    "\n",
    "while True:\n",
    "    tahmin = int(input(\"Tahmininizi giriniz\"))\n",
    "    deneme_sayisi += 1\n",
    "\n",
    "    if tahmin < gizli_sayi:\n",
    "        print(\"Daha büyük bir tahmin yapınız.\")\n",
    "    elif tahmin > gizli_sayi:\n",
    "        print(\"Daha küçük bir tahmin yapınız.\")\n",
    "    else:\n",
    "        print(f\"Tebrikler! {deneme_sayisi} adımda tahmin ettiniz.\")\n",
    "        break     "
   ]
  }
 ],
 "metadata": {
  "kernelspec": {
   "display_name": "btk-akademi-programlama",
   "language": "python",
   "name": "python3"
  },
  "language_info": {
   "codemirror_mode": {
    "name": "ipython",
    "version": 3
   },
   "file_extension": ".py",
   "mimetype": "text/x-python",
   "name": "python",
   "nbconvert_exporter": "python",
   "pygments_lexer": "ipython3",
   "version": "3.12.11"
  }
 },
 "nbformat": 4,
 "nbformat_minor": 5
}
