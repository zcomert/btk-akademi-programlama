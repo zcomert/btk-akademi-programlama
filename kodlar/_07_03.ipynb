{
 "cells": [
  {
   "cell_type": "code",
   "execution_count": 2,
   "id": "daede946",
   "metadata": {},
   "outputs": [
    {
     "name": "stdout",
     "output_type": "stream",
     "text": [
      "Girilen sayıların toplamı: 8.0\n"
     ]
    }
   ],
   "source": [
    "toplam = 0\n",
    "while True:\n",
    "    sayi = float(input(\"Sayi: \"))\n",
    "    if sayi==-1:\n",
    "        break\n",
    "    else:\n",
    "        toplam+=sayi\n",
    "print(f\"Girilen sayıların toplamı: {toplam}\")"
   ]
  }
 ],
 "metadata": {
  "kernelspec": {
   "display_name": "btk-akademi-programlama",
   "language": "python",
   "name": "python3"
  },
  "language_info": {
   "codemirror_mode": {
    "name": "ipython",
    "version": 3
   },
   "file_extension": ".py",
   "mimetype": "text/x-python",
   "name": "python",
   "nbconvert_exporter": "python",
   "pygments_lexer": "ipython3",
   "version": "3.12.11"
  }
 },
 "nbformat": 4,
 "nbformat_minor": 5
}
