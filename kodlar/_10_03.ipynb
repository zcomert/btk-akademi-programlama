{
 "cells": [
  {
   "cell_type": "code",
   "execution_count": 28,
   "id": "7ce79eb2",
   "metadata": {},
   "outputs": [
    {
     "name": "stdout",
     "output_type": "stream",
     "text": [
      "[[7, 3, 8, 6, 6], [1, 0, 10, 10, 5], [1, 1, 4, 9, 5], [5, 4, 7, 7, 4]]\n"
     ]
    }
   ],
   "source": [
    "import random\n",
    "\n",
    "n = int(input(\"Satır sayısını giriniz:\"))\n",
    "m = int(input(\"Sütun sayısını giriniz:\"))\n",
    "\n",
    "matris = []\n",
    "for i in range(n):\n",
    "    satir_listesi = []\n",
    "    for j in range(m):\n",
    "        satir_listesi.append(random.randint(0,10))\n",
    "    matris.append(satir_listesi)\n",
    "\n",
    "print(matris)"
   ]
  },
  {
   "cell_type": "code",
   "execution_count": 29,
   "id": "95da6d38",
   "metadata": {},
   "outputs": [
    {
     "name": "stdout",
     "output_type": "stream",
     "text": [
      "7\n",
      "3\n",
      "8\n",
      "6\n",
      "6\n",
      "1\n",
      "0\n",
      "10\n",
      "10\n",
      "5\n",
      "1\n",
      "1\n",
      "4\n",
      "9\n",
      "5\n",
      "5\n",
      "4\n",
      "7\n",
      "7\n",
      "4\n"
     ]
    }
   ],
   "source": [
    "for i in range(len(matris)):\n",
    "    for j in range(len(matris[0])):\n",
    "        print(f\"{matris[i][j]}\")"
   ]
  },
  {
   "cell_type": "code",
   "execution_count": 30,
   "id": "32ea35e8",
   "metadata": {},
   "outputs": [
    {
     "name": "stdout",
     "output_type": "stream",
     "text": [
      "   7    3    8    6    6 \n",
      "   1    0   10   10    5 \n",
      "   1    1    4    9    5 \n",
      "   5    4    7    7    4 \n"
     ]
    }
   ],
   "source": [
    "for i in range(len(matris)):\n",
    "    for j in range(len(matris[0])):\n",
    "        print(f\"{matris[i][j]:4d}\", end=' ')\n",
    "    print(\"\")"
   ]
  },
  {
   "cell_type": "code",
   "execution_count": 31,
   "id": "81b970d5",
   "metadata": {},
   "outputs": [],
   "source": [
    "# Transpoz\n",
    "transpoze = []\n",
    "for j in range(len(matris[0])):\n",
    "    yeni_satir = []\n",
    "    for i in range(len(matris)):\n",
    "        yeni_satir.append(matris[i][j])\n",
    "    transpoze.append(yeni_satir)"
   ]
  },
  {
   "cell_type": "code",
   "execution_count": 32,
   "id": "8fae3d4d",
   "metadata": {},
   "outputs": [
    {
     "name": "stdout",
     "output_type": "stream",
     "text": [
      "   7    1    1    5 \n",
      "   3    0    1    4 \n",
      "   8   10    4    7 \n",
      "   6   10    9    7 \n",
      "   6    5    5    4 \n"
     ]
    }
   ],
   "source": [
    "for i in range(len(transpoze)):\n",
    "    for j in range(len(transpoze[0])):\n",
    "        print(f\"{transpoze[i][j]:4d}\", end=' ')\n",
    "    print(\"\")"
   ]
  }
 ],
 "metadata": {
  "kernelspec": {
   "display_name": "btk-akademi-programlama",
   "language": "python",
   "name": "python3"
  },
  "language_info": {
   "codemirror_mode": {
    "name": "ipython",
    "version": 3
   },
   "file_extension": ".py",
   "mimetype": "text/x-python",
   "name": "python",
   "nbconvert_exporter": "python",
   "pygments_lexer": "ipython3",
   "version": "3.12.11"
  }
 },
 "nbformat": 4,
 "nbformat_minor": 5
}
