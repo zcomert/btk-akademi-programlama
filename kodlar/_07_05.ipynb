{
 "cells": [
  {
   "cell_type": "code",
   "execution_count": 1,
   "id": "b5dd25c5",
   "metadata": {},
   "outputs": [
    {
     "name": "stdout",
     "output_type": "stream",
     "text": [
      "1'den 100 kadar olan sayıların toplamı: 5050\n"
     ]
    }
   ],
   "source": [
    "toplam = 0\n",
    "for sayi in range(1, 101):\n",
    "    toplam += sayi\n",
    "print(f\"1'den 100 kadar olan sayıların toplamı: {toplam}\")"
   ]
  },
  {
   "cell_type": "code",
   "execution_count": 3,
   "id": "daa8699b",
   "metadata": {},
   "outputs": [
    {
     "name": "stdout",
     "output_type": "stream",
     "text": [
      "1'den 10 kadar olan sayıların toplamı: 55\n"
     ]
    }
   ],
   "source": [
    "n = int(input(\"Limit değeri giriniz: \"))\n",
    "toplam = 0\n",
    "for sayi in range(1, n+1):\n",
    "    toplam += sayi\n",
    "print(f\"1'den {n} kadar olan sayıların toplamı: {toplam}\")"
   ]
  },
  {
   "cell_type": "code",
   "execution_count": 4,
   "id": "53005a92",
   "metadata": {},
   "outputs": [
    {
     "name": "stdout",
     "output_type": "stream",
     "text": [
      "1'den 5 kadar olan tek sayıların toplamı: 9\n"
     ]
    }
   ],
   "source": [
    "n = int(input(\"Limit değeri giriniz: \"))\n",
    "toplam = 0\n",
    "for sayi in range(1, n+1,2):\n",
    "    toplam += sayi\n",
    "print(f\"1'den {n} kadar olan tek sayıların toplamı: {toplam}\")"
   ]
  },
  {
   "cell_type": "code",
   "execution_count": 5,
   "id": "2d5ab84d",
   "metadata": {},
   "outputs": [
    {
     "name": "stdout",
     "output_type": "stream",
     "text": [
      "1'den 6 kadar olan çift sayıların toplamı: 12\n"
     ]
    }
   ],
   "source": [
    "n = int(input(\"Limit değeri giriniz: \"))\n",
    "toplam = 0\n",
    "for sayi in range(2, n+1,2):\n",
    "    toplam += sayi\n",
    "print(f\"1'den {n} kadar olan çift sayıların toplamı: {toplam}\")"
   ]
  }
 ],
 "metadata": {
  "kernelspec": {
   "display_name": "btk-akademi-programlama",
   "language": "python",
   "name": "python3"
  },
  "language_info": {
   "codemirror_mode": {
    "name": "ipython",
    "version": 3
   },
   "file_extension": ".py",
   "mimetype": "text/x-python",
   "name": "python",
   "nbconvert_exporter": "python",
   "pygments_lexer": "ipython3",
   "version": "3.12.11"
  }
 },
 "nbformat": 4,
 "nbformat_minor": 5
}
