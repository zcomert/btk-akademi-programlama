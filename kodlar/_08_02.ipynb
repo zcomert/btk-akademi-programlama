{
 "cells": [
  {
   "cell_type": "markdown",
   "id": "a81042d6",
   "metadata": {},
   "source": [
    "## 1'den N'e Kadar Olan Sayıların Toplamı\n",
    "---\n",
    "<center>\n",
    "<img src=\"./akis-semalari/birden-n-toplam.png\" width=\"500px\" />\n",
    "</center>"
   ]
  },
  {
   "cell_type": "code",
   "execution_count": 9,
   "id": "24c75392",
   "metadata": {},
   "outputs": [
    {
     "name": "stdout",
     "output_type": "stream",
     "text": [
      "1'den 3'e kadar olan sayıların toplamı: 6\n"
     ]
    }
   ],
   "source": [
    "while True:\n",
    "    try:\n",
    "        n = int(input(\"Lütfen pozitif bir tamsayı giriniz:\"))\n",
    "        if n>0:\n",
    "            break\n",
    "        else:\n",
    "            print(\"Lütfen geçerli bir pozitif tamsayı giriniz!\")\n",
    "    except:\n",
    "        print(\"Hata!\")\n",
    "        \n",
    "        \n",
    "toplam = 0\n",
    "for i in range(1, n+1):\n",
    "    toplam += i\n",
    "print(f\"1'den {n}'e kadar olan sayıların toplamı: {toplam}\")"
   ]
  }
 ],
 "metadata": {
  "kernelspec": {
   "display_name": "btk-akademi-programlama",
   "language": "python",
   "name": "python3"
  },
  "language_info": {
   "name": "python",
   "version": "3.12.11"
  }
 },
 "nbformat": 4,
 "nbformat_minor": 5
}
