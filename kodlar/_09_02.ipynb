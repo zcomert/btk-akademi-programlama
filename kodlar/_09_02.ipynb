{
 "cells": [
  {
   "cell_type": "code",
   "execution_count": 8,
   "id": "a6d3ed20",
   "metadata": {},
   "outputs": [],
   "source": [
    "isimler = [\"ahmet\",\"can\",\"merve\",\"filiz\"]"
   ]
  },
  {
   "cell_type": "code",
   "execution_count": 9,
   "id": "31cd06ec",
   "metadata": {},
   "outputs": [
    {
     "name": "stdout",
     "output_type": "stream",
     "text": [
      "ahmet\n",
      "can\n",
      "merve\n",
      "filiz\n"
     ]
    }
   ],
   "source": [
    "for isim in isimler:\n",
    "    print(f\"{isim}\")"
   ]
  },
  {
   "cell_type": "code",
   "execution_count": 12,
   "id": "cf53434d",
   "metadata": {},
   "outputs": [
    {
     "name": "stdout",
     "output_type": "stream",
     "text": [
      "0. eleman: Ahmet\n",
      "1. eleman: Can\n",
      "2. eleman: Merve\n",
      "3. eleman: Filiz\n"
     ]
    }
   ],
   "source": [
    "for i in range(len(isimler)):\n",
    "    print(f\"{i}. eleman: {isimler[i].title()}\")"
   ]
  },
  {
   "cell_type": "code",
   "execution_count": 14,
   "id": "6bbef503",
   "metadata": {},
   "outputs": [
    {
     "name": "stdout",
     "output_type": "stream",
     "text": [
      "3. eleman: filiz\n",
      "2. eleman: merve\n",
      "1. eleman: can\n",
      "0. eleman: ahmet\n"
     ]
    }
   ],
   "source": [
    "for i in range(len(isimler)-1,-1,-1):\n",
    "    print(f\"{i}. eleman: {isimler[i]}\")"
   ]
  },
  {
   "cell_type": "code",
   "execution_count": 15,
   "id": "791c92d6",
   "metadata": {},
   "outputs": [
    {
     "name": "stdout",
     "output_type": "stream",
     "text": [
      "0. isim: Ahmet\n",
      "1. isim: Can\n",
      "2. isim: Merve\n",
      "3. isim: Filiz\n"
     ]
    }
   ],
   "source": [
    "i=0\n",
    "while i<len(isimler):\n",
    "    print(f\"{i}. isim: {isimler[i].title()}\")\n",
    "    i+=1"
   ]
  },
  {
   "cell_type": "code",
   "execution_count": 17,
   "id": "2aeda653",
   "metadata": {},
   "outputs": [
    {
     "name": "stdout",
     "output_type": "stream",
     "text": [
      "3. isim: Filiz\n",
      "2. isim: Merve\n",
      "1. isim: Can\n",
      "0. isim: Ahmet\n"
     ]
    }
   ],
   "source": [
    "i = len(isimler)-1\n",
    "while i>=0:\n",
    "     print(f\"{i}. isim: {isimler[i].title()}\")\n",
    "     i-=1"
   ]
  },
  {
   "cell_type": "code",
   "execution_count": 19,
   "id": "aef5820b",
   "metadata": {},
   "outputs": [
    {
     "name": "stdout",
     "output_type": "stream",
     "text": [
      "0. isim: Ahmet\n",
      "1. isim: Can\n",
      "2. isim: Merve\n",
      "3. isim: Filiz\n"
     ]
    }
   ],
   "source": [
    "for index, isim in enumerate(isimler):\n",
    "    print(f\"{index}. isim: {isim.title()}\")"
   ]
  },
  {
   "cell_type": "code",
   "execution_count": 20,
   "id": "0053d3af",
   "metadata": {},
   "outputs": [
    {
     "name": "stdout",
     "output_type": "stream",
     "text": [
      "0. isim: Filiz\n",
      "1. isim: Merve\n",
      "2. isim: Can\n",
      "3. isim: Ahmet\n"
     ]
    }
   ],
   "source": [
    "for index, isim in enumerate(reversed(isimler)):\n",
    "    print(f\"{index}. isim: {isim.title()}\")"
   ]
  }
 ],
 "metadata": {
  "kernelspec": {
   "display_name": "btk-akademi-programlama",
   "language": "python",
   "name": "python3"
  },
  "language_info": {
   "codemirror_mode": {
    "name": "ipython",
    "version": 3
   },
   "file_extension": ".py",
   "mimetype": "text/x-python",
   "name": "python",
   "nbconvert_exporter": "python",
   "pygments_lexer": "ipython3",
   "version": "3.12.11"
  }
 },
 "nbformat": 4,
 "nbformat_minor": 5
}
