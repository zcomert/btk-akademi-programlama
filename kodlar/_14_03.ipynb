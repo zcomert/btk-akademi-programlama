{
 "cells": [
  {
   "cell_type": "code",
   "execution_count": 1,
   "id": "1793e977",
   "metadata": {},
   "outputs": [
    {
     "name": "stdout",
     "output_type": "stream",
     "text": [
      "['elma', 'armut', 'muz', 'kiraz']\n",
      "['kiraz', 'muz', 'armut', 'elma']\n"
     ]
    }
   ],
   "source": [
    "my_list = [\"elma\",\"armut\",\"muz\",\"kiraz\"]\n",
    "reversed_list = []\n",
    "for i in range(len(my_list)-1,-1,-1):\n",
    "    reversed_list.append(my_list[i])\n",
    "\n",
    "print(my_list)\n",
    "print(reversed_list)"
   ]
  },
  {
   "cell_type": "code",
   "execution_count": 5,
   "id": "cb52949c",
   "metadata": {},
   "outputs": [
    {
     "name": "stdout",
     "output_type": "stream",
     "text": [
      "['elma', 'armut', 'muz', 'kiraz']\n",
      "['kiraz', 'muz', 'armut', 'elma']\n"
     ]
    }
   ],
   "source": [
    "def reverse_list(input_list):\n",
    "    reversed_list = []\n",
    "    for i in range(len(input_list)-1,-1,-1):\n",
    "        reversed_list.append(input_list[i])\n",
    "    return reversed_list\n",
    "\n",
    "print(my_list)\n",
    "print(reverse_list(my_list))"
   ]
  },
  {
   "cell_type": "code",
   "execution_count": 14,
   "id": "560e9221",
   "metadata": {},
   "outputs": [
    {
     "name": "stdout",
     "output_type": "stream",
     "text": [
      "['elma', 'armut', 'muz', 'kiraz']\n",
      "['kiraz', 'muz', 'armut', 'elma']\n"
     ]
    }
   ],
   "source": [
    "def recursive_reverse_list(input_list):\n",
    "    # temel - koşul\n",
    "    if len(input_list) <= 1:\n",
    "        return input_list\n",
    "    return [input_list[-1]] + recursive_reverse_list(input_list[:-1])\n",
    "\n",
    "print(my_list)\n",
    "print(recursive_reverse_list(my_list))"
   ]
  }
 ],
 "metadata": {
  "kernelspec": {
   "display_name": "btk-akademi-programlama",
   "language": "python",
   "name": "python3"
  },
  "language_info": {
   "codemirror_mode": {
    "name": "ipython",
    "version": 3
   },
   "file_extension": ".py",
   "mimetype": "text/x-python",
   "name": "python",
   "nbconvert_exporter": "python",
   "pygments_lexer": "ipython3",
   "version": "3.12.11"
  }
 },
 "nbformat": 4,
 "nbformat_minor": 5
}
