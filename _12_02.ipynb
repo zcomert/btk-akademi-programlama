{
 "cells": [
  {
   "cell_type": "code",
   "execution_count": 5,
   "id": "d11a74e3",
   "metadata": {},
   "outputs": [
    {
     "name": "stdout",
     "output_type": "stream",
     "text": [
      "ahmet\n",
      "<class 'str'>\n"
     ]
    }
   ],
   "source": [
    "name = input(\"Adınızı giriniz\").lower()\n",
    "print(name)\n",
    "print(type(name))"
   ]
  },
  {
   "cell_type": "code",
   "execution_count": null,
   "id": "49238be6",
   "metadata": {},
   "outputs": [
    {
     "name": "stdout",
     "output_type": "stream",
     "text": [
      "Merhaba Merhaba\n",
      "Hoşçakal Merhaba\n"
     ]
    }
   ],
   "source": [
    "word1 = \"Merhaba\"\n",
    "\n",
    "# değer - referans (X)\n",
    "word2 = word1 # yeni bir nesne oluşturuluyor | yeni referans\n",
    "\n",
    "print(word1,word2)\n",
    "word1 = \"Hoşçakal\"\n",
    "print(word1,word2)"
   ]
  },
  {
   "cell_type": "code",
   "execution_count": null,
   "id": "f408be55",
   "metadata": {},
   "outputs": [
    {
     "name": "stdout",
     "output_type": "stream",
     "text": [
      "[1, 2, 3] [1, 2, 3]\n",
      "[2, 3, 10] [2, 3, 10]\n"
     ]
    }
   ],
   "source": [
    "l1 = [1,2,3]\n",
    "l2 = l1 # value / ref | yeni nesne üretilmedi!\n",
    "print(l1,l2)\n",
    "\n",
    "l1.append(10)\n",
    "l2.remove(1)\n",
    "print(l1,l2)\n",
    "\n"
   ]
  },
  {
   "cell_type": "code",
   "execution_count": 8,
   "id": "b3f81397",
   "metadata": {},
   "outputs": [
    {
     "name": "stdout",
     "output_type": "stream",
     "text": [
      "Ö\n",
      "r\n",
      "e\n",
      "r\n"
     ]
    }
   ],
   "source": [
    "name = \"Ömer\"\n",
    "print(name[0])\n",
    "print(name[-1])\n",
    "print(name[-2])\n",
    "print(name[3])"
   ]
  },
  {
   "cell_type": "code",
   "execution_count": 9,
   "id": "9bd31e93",
   "metadata": {},
   "outputs": [
    {
     "ename": "TypeError",
     "evalue": "'str' object does not support item assignment",
     "output_type": "error",
     "traceback": [
      "\u001b[31m---------------------------------------------------------------------------\u001b[39m",
      "\u001b[31mTypeError\u001b[39m                                 Traceback (most recent call last)",
      "\u001b[36mCell\u001b[39m\u001b[36m \u001b[39m\u001b[32mIn[9]\u001b[39m\u001b[32m, line 1\u001b[39m\n\u001b[32m----> \u001b[39m\u001b[32m1\u001b[39m \u001b[43mname\u001b[49m\u001b[43m[\u001b[49m\u001b[32;43m0\u001b[39;49m\u001b[43m]\u001b[49m = \u001b[33m\"\u001b[39m\u001b[33mö\u001b[39m\u001b[33m\"\u001b[39m\n",
      "\u001b[31mTypeError\u001b[39m: 'str' object does not support item assignment"
     ]
    }
   ],
   "source": [
    "name[0] = \"ö\""
   ]
  },
  {
   "cell_type": "code",
   "execution_count": 10,
   "id": "e8939c9a",
   "metadata": {},
   "outputs": [
    {
     "name": "stdout",
     "output_type": "stream",
     "text": [
      "4\n"
     ]
    }
   ],
   "source": [
    "print(len(name))"
   ]
  },
  {
   "cell_type": "code",
   "execution_count": 14,
   "id": "b70c07ae",
   "metadata": {},
   "outputs": [
    {
     "name": "stdout",
     "output_type": "stream",
     "text": [
      "Sıradaki kişi: AYŞE\n",
      "Sıradaki kişi: ALI\n",
      "Sıradaki kişi: CAN\n",
      "Sıradaki kişi: MEHMET\n"
     ]
    }
   ],
   "source": [
    "names = [\"ayşe\",\"ali\",\"can\",\"mehmet\"]\n",
    "for name in names:\n",
    "    print(f\"Sıradaki kişi: {name.upper()}\")"
   ]
  },
  {
   "cell_type": "markdown",
   "id": "9dd32469",
   "metadata": {},
   "source": [
    "start:stop:step"
   ]
  },
  {
   "cell_type": "code",
   "execution_count": 18,
   "id": "63ba9224",
   "metadata": {},
   "outputs": [
    {
     "name": "stdout",
     "output_type": "stream",
     "text": [
      "Program\n",
      "ramlama öğreniyorum.\n",
      "Progr\n",
      "Pormaaörnyrm\n"
     ]
    }
   ],
   "source": [
    "# Dilimleme\n",
    "sentence = \"Programlama öğreniyorum.\"\n",
    "print(sentence[0:7])\n",
    "print(sentence[4:])\n",
    "print(sentence[:5])\n",
    "print(sentence[::2])\n"
   ]
  },
  {
   "cell_type": "code",
   "execution_count": 20,
   "id": "5b8e9f45",
   "metadata": {},
   "outputs": [
    {
     "name": "stdout",
     "output_type": "stream",
     "text": [
      "mehmet\n",
      "temhem\n"
     ]
    }
   ],
   "source": [
    "print(name)\n",
    "print(name[::-1])"
   ]
  },
  {
   "cell_type": "code",
   "execution_count": 25,
   "id": "fda50b89",
   "metadata": {},
   "outputs": [
    {
     "name": "stdout",
     "output_type": "stream",
     "text": [
      "Merhaba Me Bey.\n"
     ]
    }
   ],
   "source": [
    "new_sentence = \"Merhaba \" + name[:2].title() + \" Bey.\"\n",
    "print(new_sentence)"
   ]
  },
  {
   "cell_type": "code",
   "execution_count": 28,
   "id": "9589f398",
   "metadata": {},
   "outputs": [
    {
     "name": "stdout",
     "output_type": "stream",
     "text": [
      "15\n"
     ]
    },
    {
     "ename": "IndexError",
     "evalue": "string index out of range",
     "output_type": "error",
     "traceback": [
      "\u001b[31m---------------------------------------------------------------------------\u001b[39m",
      "\u001b[31mIndexError\u001b[39m                                Traceback (most recent call last)",
      "\u001b[36mCell\u001b[39m\u001b[36m \u001b[39m\u001b[32mIn[28]\u001b[39m\u001b[32m, line 2\u001b[39m\n\u001b[32m      1\u001b[39m \u001b[38;5;28mprint\u001b[39m(\u001b[38;5;28mlen\u001b[39m(new_sentence))\n\u001b[32m----> \u001b[39m\u001b[32m2\u001b[39m \u001b[38;5;28mprint\u001b[39m(\u001b[43mnew_sentence\u001b[49m\u001b[43m[\u001b[49m\u001b[32;43m15\u001b[39;49m\u001b[43m]\u001b[49m)\n",
      "\u001b[31mIndexError\u001b[39m: string index out of range"
     ]
    }
   ],
   "source": [
    "print(len(new_sentence))\n",
    "print(new_sentence[15])"
   ]
  }
 ],
 "metadata": {
  "kernelspec": {
   "display_name": "btk-akademi-programlama",
   "language": "python",
   "name": "python3"
  },
  "language_info": {
   "codemirror_mode": {
    "name": "ipython",
    "version": 3
   },
   "file_extension": ".py",
   "mimetype": "text/x-python",
   "name": "python",
   "nbconvert_exporter": "python",
   "pygments_lexer": "ipython3",
   "version": "3.12.11"
  }
 },
 "nbformat": 4,
 "nbformat_minor": 5
}
