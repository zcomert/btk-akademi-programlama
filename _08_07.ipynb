{
 "cells": [
  {
   "cell_type": "markdown",
   "id": "fd9eafc6",
   "metadata": {},
   "source": [
    "## Kullanıcının Girdiği Pozitif Sayıların Toplamı\n",
    "---\n",
    "<center>\n",
    "<img src=\"akis-semalari/asal-sayi.png\" width=\"500px\" />\n",
    "</center>"
   ]
  },
  {
   "cell_type": "code",
   "execution_count": null,
   "id": "87e70f81",
   "metadata": {},
   "outputs": [
    {
     "name": "stdout",
     "output_type": "stream",
     "text": [
      "10 bir asal sayı değildir.\n"
     ]
    }
   ],
   "source": [
    "n = int(input(\"n sayısını giriniz.\"))\n",
    "if n<=1:\n",
    "    print(f\"{n} asal sayı değildir!\")\n",
    "else:\n",
    "    asal = True\n",
    "    for i in range(2,n):\n",
    "        if n % i == 0:\n",
    "            asal = False\n",
    "            break\n",
    "    if asal:\n",
    "        print(f\"{n} bir asal sayıdır.\")\n",
    "    else:\n",
    "        print(f\"{n} bir asal sayı değildir.\") "
   ]
  }
 ],
 "metadata": {
  "kernelspec": {
   "display_name": "btk-akademi-programlama",
   "language": "python",
   "name": "python3"
  },
  "language_info": {
   "codemirror_mode": {
    "name": "ipython",
    "version": 3
   },
   "file_extension": ".py",
   "mimetype": "text/x-python",
   "name": "python",
   "nbconvert_exporter": "python",
   "pygments_lexer": "ipython3",
   "version": "3.12.11"
  }
 },
 "nbformat": 4,
 "nbformat_minor": 5
}
