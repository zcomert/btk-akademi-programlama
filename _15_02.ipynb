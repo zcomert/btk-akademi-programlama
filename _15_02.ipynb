{
 "cells": [
  {
   "cell_type": "code",
   "execution_count": 4,
   "id": "c70b4468",
   "metadata": {},
   "outputs": [],
   "source": [
    "file_name = \"products.txt\"\n",
    "with open(file_name,\"a\") as file:\n",
    "    while True:\n",
    "        product = input(\"Ürün giriniz (çıkmak için q basınız)\")\n",
    "        if product.lower() == 'q':\n",
    "            break\n",
    "        file.write(product + \"\\n\")"
   ]
  },
  {
   "cell_type": "code",
   "execution_count": 8,
   "id": "51420994",
   "metadata": {},
   "outputs": [
    {
     "name": "stdout",
     "output_type": "stream",
     "text": [
      "Bardak\n",
      "Bilgisayar\n",
      "Bıçak\n",
      "Doğruma Tahtası\n",
      "Fincan\n",
      "Mouse\n",
      "TV\n",
      "Çatal\n",
      "Ütü\n"
     ]
    }
   ],
   "source": [
    "with open(file_name,\"r\") as file:\n",
    "    products = file.readlines()\n",
    "\n",
    "products = list(map(lambda p : p.strip(), products))\n",
    "products = list(set(products)) # küme teorisi\n",
    "for prd in sorted(products):\n",
    "    print(prd)"
   ]
  }
 ],
 "metadata": {
  "kernelspec": {
   "display_name": "btk-akademi-programlama",
   "language": "python",
   "name": "python3"
  },
  "language_info": {
   "codemirror_mode": {
    "name": "ipython",
    "version": 3
   },
   "file_extension": ".py",
   "mimetype": "text/x-python",
   "name": "python",
   "nbconvert_exporter": "python",
   "pygments_lexer": "ipython3",
   "version": "3.12.11"
  }
 },
 "nbformat": 4,
 "nbformat_minor": 5
}
