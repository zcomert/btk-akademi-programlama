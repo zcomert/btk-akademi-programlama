{
 "cells": [
  {
   "cell_type": "code",
   "execution_count": 6,
   "id": "083b48e1",
   "metadata": {},
   "outputs": [
    {
     "name": "stdout",
     "output_type": "stream",
     "text": [
      "Asal sayılar:  [2, 5, 7, 19]\n"
     ]
    }
   ],
   "source": [
    "# Başlangıç sayı listesi\n",
    "numbers = [2,4,5,6,7,10,0,19]\n",
    "\n",
    "# Asal sayılar\n",
    "prime_numbers = []\n",
    "\n",
    "# Listede gezinme\n",
    "for number in numbers:\n",
    "    if number<2:\n",
    "        continue\n",
    "    \n",
    "    is_prime = True\n",
    "    # for i in range(2,number):\n",
    "    for i in range(2,int(number**0.5)+1):\n",
    "        if number % i==0:\n",
    "            is_prime = False\n",
    "            break\n",
    "    \n",
    "    if is_prime:\n",
    "        prime_numbers.append(number)\n",
    "\n",
    "print(\"Asal sayılar: \", prime_numbers)\n",
    "            "
   ]
  },
  {
   "cell_type": "code",
   "execution_count": 7,
   "id": "11570495",
   "metadata": {},
   "outputs": [
    {
     "name": "stdout",
     "output_type": "stream",
     "text": [
      "Asal sayılar:  [2, 5, 7, 19]\n"
     ]
    }
   ],
   "source": [
    "def is_prime(number):\n",
    "    if number<2:\n",
    "        return False\n",
    "    \n",
    "    # for i in range(2,number):\n",
    "    for i in range(2,int(number**0.5)+1):\n",
    "        if number % i==0:\n",
    "            return False\n",
    "    return True\n",
    "\n",
    "# Başlangıç sayı listesi\n",
    "numbers = [2,4,5,6,7,10,0,19]\n",
    "\n",
    "# Asal sayılar\n",
    "prime_numbers = []\n",
    "\n",
    "# Listede gezinme\n",
    "for number in numbers:\n",
    "    if is_prime(number):\n",
    "        prime_numbers.append(number)\n",
    "\n",
    "print(\"Asal sayılar: \", prime_numbers)            "
   ]
  }
 ],
 "metadata": {
  "kernelspec": {
   "display_name": "btk-akademi-programlama",
   "language": "python",
   "name": "python3"
  },
  "language_info": {
   "codemirror_mode": {
    "name": "ipython",
    "version": 3
   },
   "file_extension": ".py",
   "mimetype": "text/x-python",
   "name": "python",
   "nbconvert_exporter": "python",
   "pygments_lexer": "ipython3",
   "version": "3.12.11"
  }
 },
 "nbformat": 4,
 "nbformat_minor": 5
}
