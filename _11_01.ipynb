{
 "cells": [
  {
   "cell_type": "code",
   "execution_count": 2,
   "id": "8cf93926",
   "metadata": {},
   "outputs": [
    {
     "name": "stdout",
     "output_type": "stream",
     "text": [
      "Orijinal dizi: [10, 20, 30, 40, 50]\n",
      "Tersine çevrilmiş dizi: [50, 40, 30, 20, 10]\n"
     ]
    }
   ],
   "source": [
    "original_list = [i for i in range(10,60,10)]\n",
    "reversed_list = []\n",
    "\n",
    "for i in range(len(original_list)-1,-1,-1):\n",
    "    reversed_list.append(original_list[i])\n",
    "\n",
    "print(\"Orijinal dizi:\", original_list)\n",
    "print(\"Tersine çevrilmiş dizi:\", reversed_list)"
   ]
  }
 ],
 "metadata": {
  "kernelspec": {
   "display_name": "btk-akademi-programlama",
   "language": "python",
   "name": "python3"
  },
  "language_info": {
   "codemirror_mode": {
    "name": "ipython",
    "version": 3
   },
   "file_extension": ".py",
   "mimetype": "text/x-python",
   "name": "python",
   "nbconvert_exporter": "python",
   "pygments_lexer": "ipython3",
   "version": "3.12.11"
  }
 },
 "nbformat": 4,
 "nbformat_minor": 5
}
