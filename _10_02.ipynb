{
 "cells": [
  {
   "cell_type": "code",
   "execution_count": 14,
   "id": "b08e9b55",
   "metadata": {},
   "outputs": [
    {
     "name": "stdout",
     "output_type": "stream",
     "text": [
      "[[1, 2, 3, 4], [5, 6, 7, 8], [9, 10, 11, 12]]\n"
     ]
    }
   ],
   "source": [
    "c=1\n",
    "n,m = 3,4\n",
    "matris=[]\n",
    "for i in range(n):\n",
    "    temp=[]\n",
    "    for j in range(m):\n",
    "        temp.append(c)\n",
    "        c+=1\n",
    "    matris.append(temp)\n",
    "\n",
    "print(matris)      "
   ]
  },
  {
   "cell_type": "code",
   "execution_count": null,
   "id": "c9206ae9",
   "metadata": {},
   "outputs": [
    {
     "name": "stdout",
     "output_type": "stream",
     "text": [
      "[[0, 0, 0], [0, 0, 0], [0, 0, 0]]\n"
     ]
    }
   ],
   "source": [
    "row = [0 for i in range(n)]\n",
    "matris = [row for i in range(m)]\n",
    "print(matris)"
   ]
  },
  {
   "cell_type": "code",
   "execution_count": null,
   "id": "bced7018",
   "metadata": {},
   "outputs": [
    {
     "name": "stdout",
     "output_type": "stream",
     "text": [
      "[[0, 0, 0], [0, 0, 0], [0, 0, 0], [0, 0, 0]]\n"
     ]
    }
   ],
   "source": [
    "# list comprehension\n",
    "matris = [[0 for i in range(n)] for j in range(m)]\n",
    "print(matris)"
   ]
  },
  {
   "cell_type": "code",
   "execution_count": 53,
   "id": "52f029b2",
   "metadata": {},
   "outputs": [
    {
     "data": {
      "text/plain": [
       "[10, 20, 30, 10, 20, 30, 10, 20, 30]"
      ]
     },
     "execution_count": 53,
     "metadata": {},
     "output_type": "execute_result"
    }
   ],
   "source": [
    "numbers = [10,20,30]\n",
    "numbers*3"
   ]
  },
  {
   "cell_type": "code",
   "execution_count": 58,
   "id": "5f097076",
   "metadata": {},
   "outputs": [
    {
     "name": "stdout",
     "output_type": "stream",
     "text": [
      "[[55, 0, 0, 0], [55, 0, 0, 0], [55, 0, 0, 0]]\n"
     ]
    }
   ],
   "source": [
    "n,m = 3,4\n",
    "matris = [[0] * m] * n  \n",
    "matris[0][0] = 55\n",
    "print(matris)"
   ]
  },
  {
   "cell_type": "code",
   "execution_count": 61,
   "id": "255eb83e",
   "metadata": {},
   "outputs": [
    {
     "name": "stdout",
     "output_type": "stream",
     "text": [
      "[[0, 0, 0, 0], [1, 1, 1, 1], [2, 2, 2, 2]]\n"
     ]
    }
   ],
   "source": [
    "n,m = 3,4\n",
    "matris=[]\n",
    "for i in range(n):\n",
    "    matris.append([i]*m)\n",
    "print(matris)"
   ]
  },
  {
   "cell_type": "code",
   "execution_count": 64,
   "id": "bafc0382",
   "metadata": {},
   "outputs": [
    {
     "name": "stdout",
     "output_type": "stream",
     "text": [
      "[[0, 0, 0, 0, 0], [1, 1, 1, 1, 1], [2, 2, 2, 2, 2]]\n"
     ]
    }
   ],
   "source": [
    "n,m = 3,5\n",
    "matris = [[i]*m for i in range(n)]\n",
    "print(matris)"
   ]
  },
  {
   "cell_type": "code",
   "execution_count": 57,
   "id": "56bbac39",
   "metadata": {},
   "outputs": [
    {
     "name": "stdout",
     "output_type": "stream",
     "text": [
      "[1, 2, 3, 23, 55]\n",
      "[1, 2, 3, 23, 55]\n"
     ]
    }
   ],
   "source": [
    "l1 = [1,2,3]\n",
    "l1.append(23)\n",
    "l2 = l1\n",
    "l2.append(55)\n",
    "\n",
    "print(l1)\n",
    "print(l2)"
   ]
  }
 ],
 "metadata": {
  "kernelspec": {
   "display_name": "btk-akademi-programlama",
   "language": "python",
   "name": "python3"
  },
  "language_info": {
   "codemirror_mode": {
    "name": "ipython",
    "version": 3
   },
   "file_extension": ".py",
   "mimetype": "text/x-python",
   "name": "python",
   "nbconvert_exporter": "python",
   "pygments_lexer": "ipython3",
   "version": "3.12.11"
  }
 },
 "nbformat": 4,
 "nbformat_minor": 5
}
