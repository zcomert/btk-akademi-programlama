{
 "cells": [
  {
   "cell_type": "code",
   "execution_count": 1,
   "id": "23da86b0",
   "metadata": {},
   "outputs": [
    {
     "name": "stdout",
     "output_type": "stream",
     "text": [
      "Toplam : 23\n"
     ]
    }
   ],
   "source": [
    "numbers = [4, 7, 1, 9, 2]\n",
    "total = 0\n",
    "for number in numbers:\n",
    "    total += number\n",
    "print(f\"Toplam : {total}\")"
   ]
  },
  {
   "cell_type": "code",
   "execution_count": 2,
   "id": "9e4f7d7f",
   "metadata": {},
   "outputs": [
    {
     "name": "stdout",
     "output_type": "stream",
     "text": [
      "Toplam : 23\n"
     ]
    }
   ],
   "source": [
    "def sum_list(numbers):\n",
    "    \"\"\"\n",
    "    Bir listedeki elemanları toplar. \n",
    "    Geriye toplam sonucu döner\n",
    "    \n",
    "    Parametre:\n",
    "    numbers: Numaraları içeren listedir. \n",
    "    \"\"\"\n",
    "    total = 0\n",
    "    for number in numbers:\n",
    "        total += number\n",
    "    return total\n",
    "\n",
    "print(f\"Toplam : {sum_list(numbers)}\")   "
   ]
  },
  {
   "cell_type": "code",
   "execution_count": 4,
   "id": "04c510f2",
   "metadata": {},
   "outputs": [
    {
     "name": "stdout",
     "output_type": "stream",
     "text": [
      "Toplam : 23\n"
     ]
    }
   ],
   "source": [
    "def recursive_sum_list(numbers):\n",
    "    \"\"\"\n",
    "    Bir listedeki elemanları toplar. \n",
    "    Geriye toplam sonucu döner\n",
    "    \n",
    "    Parametre:\n",
    "    numbers: Numaraları içeren listedir. \n",
    "    \"\"\"\n",
    "    # temel koşul \n",
    "    if len(numbers) == 0:\n",
    "        return 0\n",
    "    return numbers[0] + recursive_sum_list(numbers[1:])\n",
    "\n",
    "print(f\"Toplam : {recursive_sum_list(numbers)}\")   "
   ]
  }
 ],
 "metadata": {
  "kernelspec": {
   "display_name": "btk-akademi-programlama",
   "language": "python",
   "name": "python3"
  },
  "language_info": {
   "codemirror_mode": {
    "name": "ipython",
    "version": 3
   },
   "file_extension": ".py",
   "mimetype": "text/x-python",
   "name": "python",
   "nbconvert_exporter": "python",
   "pygments_lexer": "ipython3",
   "version": "3.12.11"
  }
 },
 "nbformat": 4,
 "nbformat_minor": 5
}
