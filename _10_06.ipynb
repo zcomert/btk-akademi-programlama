{
 "cells": [
  {
   "cell_type": "code",
   "execution_count": 72,
   "id": "2e2093e3",
   "metadata": {},
   "outputs": [],
   "source": [
    "def print_matris(m):\n",
    "    print(\"- \"*len(m[0]*3))\n",
    "    for i in range(len(m)):\n",
    "        for j in range(len(m[0])):\n",
    "            print(f\"{m[i][j]:4d}\", end=' ')\n",
    "        print(\"\")\n",
    "    print(\"\")  "
   ]
  },
  {
   "cell_type": "code",
   "execution_count": 73,
   "id": "624d771a",
   "metadata": {},
   "outputs": [
    {
     "name": "stdout",
     "output_type": "stream",
     "text": [
      "- - - - - - \n",
      "   2    3 \n",
      "   3    4 \n",
      "\n",
      "- - - - - - \n",
      "   1    2 \n",
      "   2    4 \n",
      "\n",
      "- - - - - - \n",
      "   3    5 \n",
      "   5    8 \n",
      "\n"
     ]
    }
   ],
   "source": [
    "n = int(input(\"Satır sayısını giriniz: \"))\n",
    "m = int(input(\"Sütun sayısını giriniz: \"))\n",
    "\n",
    "m1 = [[0]*m for _ in range(n)]\n",
    "m2 = [[0]*m for _ in range(n)]\n",
    "m3 = [[0]*m for _ in range(n)]\n",
    "\n",
    "# değer atama / gezinme / yeni atama\n",
    "for i in range(n):\n",
    "    for j in range(m):\n",
    "        m1[i][j] = (i+1)+(j+1)\n",
    "        m2[i][j] = (i+1)*(j+1)\n",
    "        m3[i][j] =  m1[i][j] + m2[i][j]\n",
    "        \n",
    "print_matris(m1)\n",
    "print_matris(m2)\n",
    "print_matris(m3)"
   ]
  }
 ],
 "metadata": {
  "kernelspec": {
   "display_name": "btk-akademi-programlama",
   "language": "python",
   "name": "python3"
  },
  "language_info": {
   "codemirror_mode": {
    "name": "ipython",
    "version": 3
   },
   "file_extension": ".py",
   "mimetype": "text/x-python",
   "name": "python",
   "nbconvert_exporter": "python",
   "pygments_lexer": "ipython3",
   "version": "3.12.11"
  }
 },
 "nbformat": 4,
 "nbformat_minor": 5
}
