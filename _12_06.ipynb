{
 "cells": [
  {
   "cell_type": "code",
   "execution_count": 4,
   "id": "29afebcb",
   "metadata": {},
   "outputs": [
    {
     "name": "stdout",
     "output_type": "stream",
     "text": [
      "Bu iki kelime anagramdır.\n"
     ]
    }
   ],
   "source": [
    "word1 = \"Elma\"\n",
    "word2 = \"amel\"\n",
    "\n",
    "if sorted(word1.lower()) == sorted(word2.lower()):\n",
    "    print(\"Bu iki kelime anagramdır.\")\n",
    "else:\n",
    "    print(\"Bu iki kelime anagram değildir!\")"
   ]
  }
 ],
 "metadata": {
  "kernelspec": {
   "display_name": "btk-akademi-programlama",
   "language": "python",
   "name": "python3"
  },
  "language_info": {
   "codemirror_mode": {
    "name": "ipython",
    "version": 3
   },
   "file_extension": ".py",
   "mimetype": "text/x-python",
   "name": "python",
   "nbconvert_exporter": "python",
   "pygments_lexer": "ipython3",
   "version": "3.12.11"
  }
 },
 "nbformat": 4,
 "nbformat_minor": 5
}
