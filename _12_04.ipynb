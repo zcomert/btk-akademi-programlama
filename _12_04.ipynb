{
 "cells": [
  {
   "cell_type": "code",
   "execution_count": 15,
   "id": "2f7b011b",
   "metadata": {},
   "outputs": [
    {
     "name": "stdout",
     "output_type": "stream",
     "text": [
      "yapay zeka ve üretken ağların performans değerlendirmesi\n",
      "yapay-zeka-ve-uretken-aglarin-performans-degerlendirmesi\n"
     ]
    }
   ],
   "source": [
    "# title: Yapay Zekanın Geleceği\n",
    "# url : yapay-zekanin-gelecegi\n",
    "\n",
    "title = input(\"Title: \").lower()\n",
    "words = title.split()\n",
    "\n",
    "# key-value\n",
    "turkish_map = {\n",
    "    'ç':'c',\n",
    "    'ğ':'g',\n",
    "    'ı':'i',\n",
    "    'ü':'u'\n",
    "}\n",
    "\n",
    "clean_list = []\n",
    "\n",
    "for word in words:\n",
    "    new_word = \"\"\n",
    "    for char in word:\n",
    "        if char in turkish_map:\n",
    "            new_word += turkish_map[char]\n",
    "        else:\n",
    "            new_word += char\n",
    "    clean_list.append(new_word)\n",
    "url = \"-\".join(clean_list)\n",
    "\n",
    "print(title)\n",
    "print(url)"
   ]
  }
 ],
 "metadata": {
  "kernelspec": {
   "display_name": "btk-akademi-programlama",
   "language": "python",
   "name": "python3"
  },
  "language_info": {
   "codemirror_mode": {
    "name": "ipython",
    "version": 3
   },
   "file_extension": ".py",
   "mimetype": "text/x-python",
   "name": "python",
   "nbconvert_exporter": "python",
   "pygments_lexer": "ipython3",
   "version": "3.12.11"
  }
 },
 "nbformat": 4,
 "nbformat_minor": 5
}
