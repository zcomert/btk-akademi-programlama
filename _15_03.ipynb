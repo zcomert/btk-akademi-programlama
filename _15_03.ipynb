{
 "cells": [
  {
   "cell_type": "code",
   "execution_count": null,
   "id": "e47d1030",
   "metadata": {},
   "outputs": [],
   "source": [
    "def save_product(product_name, file_name='products.txt'):\n",
    "    with open(file_name,\"a\") as file:\n",
    "        file.write(product_name + \"\\n\")"
   ]
  },
  {
   "cell_type": "code",
   "execution_count": null,
   "id": "4d8b1f2b",
   "metadata": {},
   "outputs": [],
   "source": [
    "def read_products(file_name=\"products.txt\"):\n",
    "    with open(file_name, \"r\") as file:\n",
    "        return [line.strip() for line in file]"
   ]
  },
  {
   "cell_type": "code",
   "execution_count": null,
   "id": "9c454c4b",
   "metadata": {},
   "outputs": [],
   "source": [
    "def show_products(products):\n",
    "    for prd in sorted(products):\n",
    "        print(prd)"
   ]
  },
  {
   "cell_type": "code",
   "execution_count": null,
   "id": "a12889cd",
   "metadata": {},
   "outputs": [],
   "source": [
    "while True:\n",
    "    print(\"\\n 1-Ürün ekle \\n 2-Ürünleri Göster\\n 3-Çıkış\")\n",
    "    choice = input(\"Seçim (1-3)\")\n",
    "    if choice==\"1\":\n",
    "        product = input(\"Ürün adı giriniz: \")\n",
    "        save_product(product)\n",
    "    elif choice==\"2\":\n",
    "        show_products(read_products())\n",
    "    elif choice==\"3\":\n",
    "        print(\"Programdan çıkılıyor.\")\n",
    "        break\n",
    "    else:\n",
    "        print(\"Geçersiz giriş!\")"
   ]
  }
 ],
 "metadata": {
  "kernelspec": {
   "display_name": "btk-akademi-programlama",
   "language": "python",
   "name": "python3"
  },
  "language_info": {
   "codemirror_mode": {
    "name": "ipython",
    "version": 3
   },
   "file_extension": ".py",
   "mimetype": "text/x-python",
   "name": "python",
   "nbconvert_exporter": "python",
   "pygments_lexer": "ipython3",
   "version": "3.12.11"
  }
 },
 "nbformat": 4,
 "nbformat_minor": 5
}
