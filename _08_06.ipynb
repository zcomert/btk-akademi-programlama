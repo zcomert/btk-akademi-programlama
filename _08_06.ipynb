{
 "cells": [
  {
   "cell_type": "markdown",
   "id": "bf2b2ceb",
   "metadata": {},
   "source": [
    "## Kullanıcının Girdiği Pozitif Sayıların Toplamı\n",
    "---\n",
    "<center>\n",
    "<img src=\"akis-semalari/fibonacci.png\" width=\"500px\" />\n",
    "</center>"
   ]
  },
  {
   "cell_type": "code",
   "execution_count": null,
   "id": "29e91b50",
   "metadata": {},
   "outputs": [
    {
     "name": "stdout",
     "output_type": "stream",
     "text": [
      "Fibonacci serisini yazdır\n",
      "0 1 1 2 3 5 8 13 21 34 "
     ]
    }
   ],
   "source": [
    "n = int(input(\"Kaç terimlik bir Fibonacci oluşturmak istiyorsunuz?\"))\n",
    "if n<=0:\n",
    "    print(\"Pozitif bir sayı girmelisiniz!\")\n",
    "else:\n",
    "    print(\"Fibonacci serisini yazdır\")\n",
    "    if n==1:\n",
    "        print(\"0\")\n",
    "    elif n==2:\n",
    "        print(\"0 1\")\n",
    "    else:\n",
    "        a,b = 0, 1\n",
    "        print(\"0 1\", end=\" \")\n",
    "        for i in range(3, n+1):\n",
    "            c = a+b\n",
    "            print(c, end=\" \")  \n",
    "            a, b = b, c"
   ]
  }
 ],
 "metadata": {
  "kernelspec": {
   "display_name": "btk-akademi-programlama",
   "language": "python",
   "name": "python3"
  },
  "language_info": {
   "codemirror_mode": {
    "name": "ipython",
    "version": 3
   },
   "file_extension": ".py",
   "mimetype": "text/x-python",
   "name": "python",
   "nbconvert_exporter": "python",
   "pygments_lexer": "ipython3",
   "version": "3.12.11"
  }
 },
 "nbformat": 4,
 "nbformat_minor": 5
}
