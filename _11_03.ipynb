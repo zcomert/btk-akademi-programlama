{
 "cells": [
  {
   "cell_type": "code",
   "execution_count": 2,
   "id": "5ed4013a",
   "metadata": {},
   "outputs": [
    {
     "name": "stdout",
     "output_type": "stream",
     "text": [
      "Tekrar eden sayılar: [2, 3, 5]\n"
     ]
    }
   ],
   "source": [
    "# Başlagıç listesi\n",
    "numbers = [2,3,2,5,5,3,6]\n",
    "\n",
    "# tekrarlı liste\n",
    "repeated_items = []\n",
    "\n",
    "for i in range(len(numbers)):\n",
    "    count = 0\n",
    "    # her bir sayı için bir çevrim\n",
    "    for j in range(len(numbers)):\n",
    "        if numbers[i] == numbers[j]:\n",
    "            count+=1\n",
    "    # sayı terkar edecek ve repeated_items'da olmayacak\n",
    "    if count>1 and numbers[i] not in repeated_items:\n",
    "        repeated_items.append(numbers[i])\n",
    "\n",
    "print(\"Tekrar eden sayılar:\", repeated_items)"
   ]
  }
 ],
 "metadata": {
  "kernelspec": {
   "display_name": "btk-akademi-programlama",
   "language": "python",
   "name": "python3"
  },
  "language_info": {
   "codemirror_mode": {
    "name": "ipython",
    "version": 3
   },
   "file_extension": ".py",
   "mimetype": "text/x-python",
   "name": "python",
   "nbconvert_exporter": "python",
   "pygments_lexer": "ipython3",
   "version": "3.12.11"
  }
 },
 "nbformat": 4,
 "nbformat_minor": 5
}
