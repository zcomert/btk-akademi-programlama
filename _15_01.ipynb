{
 "cells": [
  {
   "cell_type": "code",
   "execution_count": 10,
   "id": "c4a25654",
   "metadata": {},
   "outputs": [],
   "source": [
    "file_name = \"products.txt\""
   ]
  },
  {
   "cell_type": "code",
   "execution_count": 11,
   "id": "914ded57",
   "metadata": {},
   "outputs": [],
   "source": [
    "file = open(\"products.txt\",\"a\")\n",
    "file.write(\"TV\\n\")\n",
    "file.close()"
   ]
  },
  {
   "cell_type": "code",
   "execution_count": 12,
   "id": "9dc7bf25",
   "metadata": {},
   "outputs": [],
   "source": [
    "with open(\"products.txt\",\"a\") as file:\n",
    "    product = input(\"Ürün giriniz: \")\n",
    "    file.write(product + \"\\n\")"
   ]
  },
  {
   "cell_type": "code",
   "execution_count": 13,
   "id": "a528204a",
   "metadata": {},
   "outputs": [
    {
     "name": "stdout",
     "output_type": "stream",
     "text": [
      "Ütü\n",
      "TV\n",
      "Bilgisayar\n",
      "TV\n",
      "Mouse\n"
     ]
    }
   ],
   "source": [
    "file = open(file_name,\"r\")\n",
    "products = file.readlines()\n",
    "file.close()\n",
    "\n",
    "for product in products:\n",
    "    print(product.strip())"
   ]
  },
  {
   "cell_type": "code",
   "execution_count": 14,
   "id": "7c1aaec7",
   "metadata": {},
   "outputs": [
    {
     "name": "stdout",
     "output_type": "stream",
     "text": [
      "Ütü\n",
      "TV\n",
      "Bilgisayar\n",
      "TV\n",
      "Mouse\n"
     ]
    }
   ],
   "source": [
    "with open(file_name,\"r\") as file:\n",
    "    products = file.readlines()\n",
    "\n",
    "products = list(map(lambda p: p.strip(), products))\n",
    "for prd in products:\n",
    "    print(prd)"
   ]
  }
 ],
 "metadata": {
  "kernelspec": {
   "display_name": "btk-akademi-programlama",
   "language": "python",
   "name": "python3"
  },
  "language_info": {
   "codemirror_mode": {
    "name": "ipython",
    "version": 3
   },
   "file_extension": ".py",
   "mimetype": "text/x-python",
   "name": "python",
   "nbconvert_exporter": "python",
   "pygments_lexer": "ipython3",
   "version": "3.12.11"
  }
 },
 "nbformat": 4,
 "nbformat_minor": 5
}
