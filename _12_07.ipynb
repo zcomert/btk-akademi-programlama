{
 "cells": [
  {
   "cell_type": "code",
   "execution_count": 4,
   "id": "7def93f3",
   "metadata": {},
   "outputs": [
    {
     "name": "stdout",
     "output_type": "stream",
     "text": [
      "Kelime sayısı:  5\n",
      "Harf sayısı:  35\n",
      "En uzun kelime:  öğreniyorum.\n",
      "En uzun kelimenin uzunluğu:  12\n"
     ]
    }
   ],
   "source": [
    "# giriş\n",
    "text = \"BTK Akademi ile Programlama öğreniyorum.\"\n",
    "\n",
    "# Ayırma\n",
    "word_list = text.split()\n",
    "\n",
    "# Kelime sayısı\n",
    "word_count = len(word_list)\n",
    "\n",
    "# Harf sayısı \n",
    "letter_count = 0\n",
    "for char in text:\n",
    "    if char.isalpha():\n",
    "        letter_count+=1\n",
    "\n",
    "# En uzun kelime\n",
    "longest_word = \"\"\n",
    "for word in word_list:\n",
    "    if len(word) > len(longest_word):\n",
    "        longest_word = word\n",
    "\n",
    "print(\"Kelime sayısı: \",word_count)\n",
    "print(\"Harf sayısı: \",letter_count)\n",
    "print(\"En uzun kelime: \",longest_word)\n",
    "print(\"En uzun kelimenin uzunluğu: \",len(longest_word))"
   ]
  }
 ],
 "metadata": {
  "kernelspec": {
   "display_name": "btk-akademi-programlama",
   "language": "python",
   "name": "python3"
  },
  "language_info": {
   "codemirror_mode": {
    "name": "ipython",
    "version": 3
   },
   "file_extension": ".py",
   "mimetype": "text/x-python",
   "name": "python",
   "nbconvert_exporter": "python",
   "pygments_lexer": "ipython3",
   "version": "3.12.11"
  }
 },
 "nbformat": 4,
 "nbformat_minor": 5
}
