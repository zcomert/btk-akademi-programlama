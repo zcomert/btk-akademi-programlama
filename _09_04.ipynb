{
 "cells": [
  {
   "cell_type": "code",
   "execution_count": 9,
   "id": "4d50b642",
   "metadata": {},
   "outputs": [
    {
     "name": "stdout",
     "output_type": "stream",
     "text": [
      "Girilen sayıların ortalaması: 14.80\n"
     ]
    }
   ],
   "source": [
    "sayilar = []\n",
    "\n",
    "for i in range(5):\n",
    "    s = int(input(\"Bir sayı giriniz: \"))\n",
    "    sayilar.append(s)\n",
    "    \n",
    "toplam = 0\n",
    "for sayi in sayilar:\n",
    "    toplam += sayi\n",
    "\n",
    "ortalama = toplam / len(sayilar)\n",
    "print(f\"Girilen sayıların ortalaması: {ortalama:.2f}\")"
   ]
  },
  {
   "cell_type": "code",
   "execution_count": 10,
   "id": "d8d7b40d",
   "metadata": {},
   "outputs": [
    {
     "data": {
      "text/plain": [
       "[10, 20, 30, 5, 9]"
      ]
     },
     "execution_count": 10,
     "metadata": {},
     "output_type": "execute_result"
    }
   ],
   "source": [
    "sayilar"
   ]
  }
 ],
 "metadata": {
  "kernelspec": {
   "display_name": "btk-akademi-programlama",
   "language": "python",
   "name": "python3"
  },
  "language_info": {
   "codemirror_mode": {
    "name": "ipython",
    "version": 3
   },
   "file_extension": ".py",
   "mimetype": "text/x-python",
   "name": "python",
   "nbconvert_exporter": "python",
   "pygments_lexer": "ipython3",
   "version": "3.12.11"
  }
 },
 "nbformat": 4,
 "nbformat_minor": 5
}
