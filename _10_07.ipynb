{
 "cells": [
  {
   "cell_type": "code",
   "execution_count": 19,
   "id": "bb09f159",
   "metadata": {},
   "outputs": [
    {
     "name": "stdout",
     "output_type": "stream",
     "text": [
      "   0    0    0 \n",
      "   0    0    0 \n",
      "   0    0    0 \n",
      "\n",
      "   0    0    0 \n",
      "   0  100    0 \n",
      "   0    0    0 \n",
      "\n",
      "   0    0    0 \n",
      "   0    0    0 \n",
      "   0    0  255 \n",
      "\n"
     ]
    }
   ],
   "source": [
    "n, m, c = 3,3,3\n",
    "\n",
    "# 3b dizi\n",
    "image = [[[0]*m for _ in range(n)] for _ in range(c)] \n",
    "\n",
    "# atama\n",
    "# image[0][0][0] = 255\n",
    "# image[1][1][1] = 255\n",
    "# image[2][2][2] = 255\n",
    "\n",
    "for i in range(n):\n",
    "    image[i][i][i] = int(input(f\"matris[{i}][{i}][{i}] için değer giriniz (0-255)\"))\n",
    "    \n",
    "# gezinme\n",
    "for derinlik in range(c):\n",
    "    for satir in range(n):\n",
    "        for sutun in range(m):\n",
    "            print(f\"{image[satir][sutun][derinlik]:4d}\", end=' ')\n",
    "        print(\"\")\n",
    "    print(\"\")\n",
    " \n"
   ]
  },
  {
   "cell_type": "code",
   "execution_count": 20,
   "id": "7c712138",
   "metadata": {},
   "outputs": [
    {
     "data": {
      "text/plain": [
       "<matplotlib.image.AxesImage at 0x2d7854e3f20>"
      ]
     },
     "execution_count": 20,
     "metadata": {},
     "output_type": "execute_result"
    },
    {
     "data": {
      "image/png": "[encoded data removed]",
      "text/plain": [
       "<Figure size 640x480 with 1 Axes>"
      ]
     },
     "metadata": {},
     "output_type": "display_data"
    }
   ],
   "source": [
    "import matplotlib.pylab as plt\n",
    "plt.imshow(image)"
   ]
  }
 ],
 "metadata": {
  "kernelspec": {
   "display_name": "btk-akademi-programlama",
   "language": "python",
   "name": "python3"
  },
  "language_info": {
   "codemirror_mode": {
    "name": "ipython",
    "version": 3
   },
   "file_extension": ".py",
   "mimetype": "text/x-python",
   "name": "python",
   "nbconvert_exporter": "python",
   "pygments_lexer": "ipython3",
   "version": "3.12.11"
  }
 },
 "nbformat": 4,
 "nbformat_minor": 5
}
