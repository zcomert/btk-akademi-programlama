{
 "cells": [
  {
   "cell_type": "code",
   "execution_count": 1,
   "id": "c458bb2a",
   "metadata": {},
   "outputs": [
    {
     "name": "stdout",
     "output_type": "stream",
     "text": [
      "[10, 13, 14, 29, 37]\n"
     ]
    }
   ],
   "source": [
    "numbers = [29, 10, 14, 37, 13]\n",
    "n = len(numbers)\n",
    "for i in range(n):\n",
    "    min_index = i\n",
    "    for j in range(i+1,n):\n",
    "        if numbers[j]<numbers[min_index]:\n",
    "            min_index = j\n",
    "    numbers[i], numbers[min_index] = numbers[min_index], numbers[i]\n",
    "print(numbers)"
   ]
  },
  {
   "cell_type": "code",
   "execution_count": 3,
   "id": "f8e7418f",
   "metadata": {},
   "outputs": [
    {
     "name": "stdout",
     "output_type": "stream",
     "text": [
      "Liste [29, 10, 14, 37, 13]\n",
      "Sıralı liste: [10, 13, 14, 29, 37]\n"
     ]
    }
   ],
   "source": [
    "def selection_sort(numbers):\n",
    "    \"\"\"Seçmeli sıralama algoritmasıdır.\n",
    "\n",
    "    Args:\n",
    "        input_list (_type_): Sıralanacak listedir.\n",
    "\n",
    "    Returns:\n",
    "        list: Sıralanmış dizi\n",
    "    \"\"\"\n",
    "    n = len(numbers)\n",
    "    for i in range(n):\n",
    "        min_index = i\n",
    "        for j in range(i+1,n):\n",
    "            if numbers[j]<numbers[min_index]:\n",
    "                min_index = j\n",
    "        numbers[i], numbers[min_index] = numbers[min_index], numbers[i]\n",
    "    return numbers\n",
    "\n",
    "numbers = [29, 10, 14, 37, 13]\n",
    "print(\"Liste\", numbers)\n",
    "print(\"Sıralı liste:\", selection_sort(numbers))"
   ]
  },
  {
   "cell_type": "code",
   "execution_count": null,
   "id": "fec95979",
   "metadata": {},
   "outputs": [],
   "source": []
  }
 ],
 "metadata": {
  "kernelspec": {
   "display_name": "btk-akademi-programlama",
   "language": "python",
   "name": "python3"
  },
  "language_info": {
   "codemirror_mode": {
    "name": "ipython",
    "version": 3
   },
   "file_extension": ".py",
   "mimetype": "text/x-python",
   "name": "python",
   "nbconvert_exporter": "python",
   "pygments_lexer": "ipython3",
   "version": "3.12.11"
  }
 },
 "nbformat": 4,
 "nbformat_minor": 5
}
