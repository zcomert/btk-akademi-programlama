{
 "cells": [
  {
   "cell_type": "code",
   "execution_count": 9,
   "id": "69bb7141",
   "metadata": {},
   "outputs": [
    {
     "name": "stdout",
     "output_type": "stream",
     "text": [
      "Öğrenci not ortalamaları: [75.0, 85.0, 67.5, 20.0]\n"
     ]
    }
   ],
   "source": [
    "# giriş\n",
    "grades_matrix = [[70,80], \n",
    "                 [90,85,80],\n",
    "                 [60,75],\n",
    "                 [10,20,30]]\n",
    "\n",
    "# çıkış\n",
    "averages = []\n",
    "\n",
    "for student_grades in grades_matrix:\n",
    "    average = sum(student_grades)/len(student_grades)\n",
    "    averages.append(average)\n",
    "\n",
    "print(\"Öğrenci not ortalamaları:\", averages)"
   ]
  }
 ],
 "metadata": {
  "kernelspec": {
   "display_name": "btk-akademi-programlama",
   "language": "python",
   "name": "python3"
  },
  "language_info": {
   "codemirror_mode": {
    "name": "ipython",
    "version": 3
   },
   "file_extension": ".py",
   "mimetype": "text/x-python",
   "name": "python",
   "nbconvert_exporter": "python",
   "pygments_lexer": "ipython3",
   "version": "3.12.11"
  }
 },
 "nbformat": 4,
 "nbformat_minor": 5
}
