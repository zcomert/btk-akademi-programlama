{
 "cells": [
  {
   "cell_type": "markdown",
   "id": "4d7efa0c",
   "metadata": {},
   "source": [
    "## Kullanıcının Girdiği Pozitif Sayıların Toplamı\n",
    "---\n",
    "<center>\n",
    "<img src=\"akis-semalari/carpim_tablosu.png\" width=\"500px\" />\n",
    "</center>"
   ]
  },
  {
   "cell_type": "code",
   "execution_count": 1,
   "id": "3912cdae",
   "metadata": {},
   "outputs": [
    {
     "name": "stdout",
     "output_type": "stream",
     "text": [
      "Pozitif sayılar giriniz. (Bitirmek için 0 girin)\n",
      "Negatif sayı yok sayıldı.\n",
      "Negatif sayı yok sayıldı.\n",
      "Girilen pozitif sayıların toplamı: 105\n"
     ]
    }
   ],
   "source": [
    "toplam = 0\n",
    "print(\"Pozitif sayılar giriniz. (Bitirmek için 0 girin)\")\n",
    "\n",
    "while True:\n",
    "    sayi = int(input(\"Sayı\"))\n",
    "    if sayi==0:\n",
    "        break\n",
    "    elif sayi>0:\n",
    "        toplam+=sayi\n",
    "    else:\n",
    "        print(\"Negatif sayı yok sayıldı.\")\n",
    "print(f\"Girilen pozitif sayıların toplamı: {toplam}\")"
   ]
  }
 ],
 "metadata": {
  "kernelspec": {
   "display_name": "btk-akademi-programlama",
   "language": "python",
   "name": "python3"
  },
  "language_info": {
   "codemirror_mode": {
    "name": "ipython",
    "version": 3
   },
   "file_extension": ".py",
   "mimetype": "text/x-python",
   "name": "python",
   "nbconvert_exporter": "python",
   "pygments_lexer": "ipython3",
   "version": "3.12.11"
  }
 },
 "nbformat": 4,
 "nbformat_minor": 5
}
