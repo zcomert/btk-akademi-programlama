{
 "cells": [
  {
   "cell_type": "code",
   "execution_count": 1,
   "id": "a9ad5378",
   "metadata": {},
   "outputs": [
    {
     "name": "stdout",
     "output_type": "stream",
     "text": [
      "8\n",
      "7\n",
      "11\n",
      "9\n"
     ]
    }
   ],
   "source": [
    "names = [\"  Hava  \", \" Adem  \",\"   Şirin   \",\"  Yavuz  \"]\n",
    "for name in names:\n",
    "    print(len(name))"
   ]
  },
  {
   "cell_type": "code",
   "execution_count": 2,
   "id": "6e1f278f",
   "metadata": {},
   "outputs": [
    {
     "name": "stdout",
     "output_type": "stream",
     "text": [
      "Hava       4 \t 8\n",
      "Adem       4 \t 7\n",
      "Şirin      5 \t 11\n",
      "Yavuz      5 \t 9\n"
     ]
    }
   ],
   "source": [
    "for name in names:\n",
    "    print(f\"{name.strip():<10} {len(name.strip())} \\t {len(name)}\")"
   ]
  },
  {
   "cell_type": "code",
   "execution_count": 3,
   "id": "2819b8d4",
   "metadata": {},
   "outputs": [
    {
     "name": "stdout",
     "output_type": "stream",
     "text": [
      "Merhaba evren.\n"
     ]
    }
   ],
   "source": [
    "exp = \"Merhaba dünya.\"\n",
    "print(exp.replace(\"dünya\",\"evren\"))"
   ]
  },
  {
   "cell_type": "code",
   "execution_count": 4,
   "id": "7256ab90",
   "metadata": {},
   "outputs": [
    {
     "name": "stdout",
     "output_type": "stream",
     "text": [
      "7\n",
      "-1\n",
      "10\n"
     ]
    }
   ],
   "source": [
    "exp = \"Python Programlama\"\n",
    "print(exp.find(\"Pro\"))\n",
    "print(exp.find(\"Java\"))\n",
    "print(exp.index(\"gram\"))\n",
    "# print(exp.index(\"java\"))"
   ]
  },
  {
   "cell_type": "code",
   "execution_count": 5,
   "id": "e496c3c1",
   "metadata": {},
   "outputs": [
    {
     "name": "stdout",
     "output_type": "stream",
     "text": [
      "['rapor.pdf', 'dokuman.pdf']\n"
     ]
    }
   ],
   "source": [
    "pdfs = [] \n",
    "files = [\"rapor.pdf\",\"resim.jpg\",\"manzara.png\",\"dokuman.pdf\"]\n",
    "\n",
    "for file in files:\n",
    "    new_file = file.split(sep='.')\n",
    "    if(new_file[1]==\"pdf\"):\n",
    "        pdfs.append(file)\n",
    "print(pdfs)"
   ]
  },
  {
   "cell_type": "code",
   "execution_count": 6,
   "id": "990e73d9",
   "metadata": {},
   "outputs": [
    {
     "name": "stdout",
     "output_type": "stream",
     "text": [
      "['rapor.pdf', 'dokuman.pdf']\n"
     ]
    }
   ],
   "source": [
    "pdfs = []\n",
    "for file in files:\n",
    "    if file.endswith(\"pdf\"):\n",
    "        pdfs.append(file)\n",
    "print(pdfs)"
   ]
  },
  {
   "cell_type": "code",
   "execution_count": 7,
   "id": "9c54edc8",
   "metadata": {},
   "outputs": [
    {
     "name": "stdout",
     "output_type": "stream",
     "text": [
      "_08_01.ipynb\n",
      "_08_02.ipynb\n",
      "_08_03.ipynb\n",
      "_08_04.ipynb\n",
      "_08_05.ipynb\n",
      "_08_06.ipynb\n",
      "_08_07.ipynb\n"
     ]
    }
   ],
   "source": [
    "import os\n",
    "files = os.listdir()\n",
    "\n",
    "for file in files:\n",
    "    if file.startswith(\"_08\"):\n",
    "        print(file)"
   ]
  }
 ],
 "metadata": {
  "kernelspec": {
   "display_name": "btk-akademi-programlama",
   "language": "python",
   "name": "python3"
  },
  "language_info": {
   "codemirror_mode": {
    "name": "ipython",
    "version": 3
   },
   "file_extension": ".py",
   "mimetype": "text/x-python",
   "name": "python",
   "nbconvert_exporter": "python",
   "pygments_lexer": "ipython3",
   "version": "3.12.11"
  }
 },
 "nbformat": 4,
 "nbformat_minor": 5
}
