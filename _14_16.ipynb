{
 "cells": [
  {
   "cell_type": "code",
   "execution_count": 35,
   "id": "826e3373",
   "metadata": {},
   "outputs": [
    {
     "name": "stdout",
     "output_type": "stream",
     "text": [
      "[98, 96, 79, 60, 55, 89, 52, 37, 66, 47]\n",
      "[37, 47, 52, 55, 60, 66, 79, 89, 96, 98]\n",
      "Sayı bulundu! Indeks: 3\n"
     ]
    }
   ],
   "source": [
    "def binary_search(arr, target,left,right):\n",
    "    # temel koşul\n",
    "    if left > right:\n",
    "        return -1\n",
    "    \n",
    "    # ortanca\n",
    "    mid = (left+right)//2\n",
    "    \n",
    "    # hedef değer\n",
    "    if arr[mid]==target:\n",
    "        return mid\n",
    "    elif arr[mid]>target:\n",
    "        return binary_search(arr, target, left, mid-1)\n",
    "    else:\n",
    "        return binary_search(arr, target, mid+1, right)\n",
    "    \n",
    "\n",
    "import random\n",
    "import sorting_algorithms\n",
    "\n",
    "numbers = [random.randint(1,100) for i in range(10)]\n",
    "print(numbers)\n",
    "\n",
    "numbers = sorting_algorithms.insertion_sort(numbers)\n",
    "print(numbers)\n",
    "\n",
    "# hedef\n",
    "target = 55\n",
    "\n",
    "# index\n",
    "index = binary_search(numbers, target, 0, len(numbers)-1)\n",
    "\n",
    "# çıktı\n",
    "if index!=-1:\n",
    "    print(\"Sayı bulundu! Indeks:\", index)\n",
    "else:\n",
    "    print(\"Sayı listede bulunamadı.\")\n"
   ]
  }
 ],
 "metadata": {
  "kernelspec": {
   "display_name": "btk-akademi-programlama",
   "language": "python",
   "name": "python3"
  },
  "language_info": {
   "codemirror_mode": {
    "name": "ipython",
    "version": 3
   },
   "file_extension": ".py",
   "mimetype": "text/x-python",
   "name": "python",
   "nbconvert_exporter": "python",
   "pygments_lexer": "ipython3",
   "version": "3.12.11"
  }
 },
 "nbformat": 4,
 "nbformat_minor": 5
}
