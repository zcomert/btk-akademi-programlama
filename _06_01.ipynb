{
 "cells": [
  {
   "cell_type": "code",
   "execution_count": 13,
   "id": "48d74b86",
   "metadata": {},
   "outputs": [
    {
     "name": "stdout",
     "output_type": "stream",
     "text": [
      "10 > 5\n",
      "Program bitti.\n"
     ]
    }
   ],
   "source": [
    "x = int(input(\"x: \"))\n",
    "\n",
    "if x>5:\n",
    "    print(f\"{x} > 5\")\n",
    "\n",
    "print(\"Program bitti.\")"
   ]
  },
  {
   "cell_type": "code",
   "execution_count": 14,
   "id": "f45d840f",
   "metadata": {},
   "outputs": [
    {
     "name": "stdout",
     "output_type": "stream",
     "text": [
      "Girilen sayi: 10.0, çift sayıdır.\n"
     ]
    }
   ],
   "source": [
    "sayi = float(input(\"Bir sayı giriniz: \"))\n",
    "if sayi%2==0:\n",
    "    print(f\"Girilen sayi: {sayi}, çift sayıdır.\")\n",
    "else:\n",
    "    print(f\"Girilen sayi: {sayi}, tek sayıdır.\")"
   ]
  },
  {
   "cell_type": "code",
   "execution_count": null,
   "id": "d32ec43d",
   "metadata": {},
   "outputs": [
    {
     "ename": "IndentationError",
     "evalue": "expected an indented block after 'if' statement on line 3 (1463112109.py, line 4)",
     "output_type": "error",
     "traceback": [
      "  \u001b[36mCell\u001b[39m\u001b[36m \u001b[39m\u001b[32mIn[17]\u001b[39m\u001b[32m, line 4\u001b[39m\n\u001b[31m    \u001b[39m\u001b[31mprint(f\"Girilen sayi {sayi:.2f}, pozitiftir.\")\u001b[39m\n    ^\n\u001b[31mIndentationError\u001b[39m\u001b[31m:\u001b[39m expected an indented block after 'if' statement on line 3\n"
     ]
    }
   ],
   "source": [
    "sayi = float(input(\"Bir sayi giriniz: \"))\n",
    "\n",
    "if sayi>0:\n",
    "    print(f\"Girilen sayi {sayi:.2f}, pozitiftir.\")\n",
    "elif sayi<0:\n",
    "    print(f\"Girilen sayi {sayi:.2f}, negatiftir.\")\n",
    "else:\n",
    "    print(f\"Girilen sayi {sayi:.2f}, sıfırdır.\")\n",
    "    "
   ]
  },
  {
   "cell_type": "code",
   "execution_count": 20,
   "id": "c8eccf17",
   "metadata": {},
   "outputs": [
    {
     "name": "stdout",
     "output_type": "stream",
     "text": [
      "Hatalı parola, lütfen şifrenizi kontrol ediniz.\n"
     ]
    }
   ],
   "source": [
    "dogru_kullanici = \"admin\"\n",
    "dogru_sifre = \"1234\"\n",
    "\n",
    "# girisleri al\n",
    "kullanici = input(\"Kullanici adiniz: \")\n",
    "sifre = input(\"Şifreniz: \")\n",
    "\n",
    "if kullanici==dogru_kullanici:\n",
    "    if sifre == dogru_sifre:\n",
    "        print(\"Giriş başarılı hoş geldiniz.\")\n",
    "    else:\n",
    "        print(\"Hatalı parola, lütfen şifrenizi kontrol ediniz.\")\n",
    "else:\n",
    "    print(f\"Böyle bir kullanıcı bulunamadı:{kullanici}\")"
   ]
  }
 ],
 "metadata": {
  "kernelspec": {
   "display_name": "btk-akademi-programlama",
   "language": "python",
   "name": "python3"
  },
  "language_info": {
   "codemirror_mode": {
    "name": "ipython",
    "version": 3
   },
   "file_extension": ".py",
   "mimetype": "text/x-python",
   "name": "python",
   "nbconvert_exporter": "python",
   "pygments_lexer": "ipython3",
   "version": "3.12.11"
  }
 },
 "nbformat": 4,
 "nbformat_minor": 5
}
