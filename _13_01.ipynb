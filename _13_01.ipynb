{
 "cells": [
  {
   "cell_type": "code",
   "execution_count": 19,
   "id": "32cb55dd",
   "metadata": {},
   "outputs": [],
   "source": [
    "def greet():\n",
    "    print(\"Merhaba, hoş geldiniz.\")"
   ]
  },
  {
   "cell_type": "code",
   "execution_count": 20,
   "id": "8d897aed",
   "metadata": {},
   "outputs": [
    {
     "name": "stdout",
     "output_type": "stream",
     "text": [
      "Merhaba, hoş geldiniz.\n"
     ]
    }
   ],
   "source": [
    "greet()"
   ]
  },
  {
   "cell_type": "code",
   "execution_count": 21,
   "id": "01d7d2cc",
   "metadata": {},
   "outputs": [],
   "source": [
    "def greet(name):\n",
    "    print(f\"Merhaba {name.title().strip()}, hoş geldiniz.\")"
   ]
  },
  {
   "cell_type": "code",
   "execution_count": 22,
   "id": "47f9d20a",
   "metadata": {},
   "outputs": [
    {
     "name": "stdout",
     "output_type": "stream",
     "text": [
      "Merhaba Ahmet, hoş geldiniz.\n",
      "Merhaba Can, hoş geldiniz.\n"
     ]
    }
   ],
   "source": [
    "greet(\"Ahmet\")\n",
    "greet(\"Can\")"
   ]
  },
  {
   "cell_type": "code",
   "execution_count": 23,
   "id": "85cc8ecb",
   "metadata": {},
   "outputs": [
    {
     "name": "stdout",
     "output_type": "stream",
     "text": [
      "Merhaba Ali, hoş geldiniz.\n",
      "Merhaba Merve, hoş geldiniz.\n",
      "Merhaba Leyla, hoş geldiniz.\n",
      "Merhaba Can, hoş geldiniz.\n"
     ]
    }
   ],
   "source": [
    "names = [\" ali \",\" Merve \",\"  Leyla\",\" Can \"]\n",
    "for name in names:\n",
    "    greet(name)"
   ]
  },
  {
   "cell_type": "code",
   "execution_count": 25,
   "id": "70b434d9",
   "metadata": {},
   "outputs": [
    {
     "name": "stdout",
     "output_type": "stream",
     "text": [
      "7.5 <class 'float'>\n",
      "9 <class 'int'>\n",
      "10 <class 'int'>\n"
     ]
    }
   ],
   "source": [
    "def add(a,b):\n",
    "    return a+b\n",
    "\n",
    "print(add(3.0,4.5), type(add(3.0,4.5)))\n",
    "print(add(4,5), type(add(4,5)))\n",
    "print(add(5,5), type(add(5,5)))"
   ]
  },
  {
   "cell_type": "code",
   "execution_count": 27,
   "id": "d3039785",
   "metadata": {},
   "outputs": [
    {
     "name": "stdout",
     "output_type": "stream",
     "text": [
      "Toplam : 9.50\n"
     ]
    }
   ],
   "source": [
    "result = add(4.5,5)\n",
    "print(f\"Toplam : {result:.2f}\")"
   ]
  },
  {
   "cell_type": "code",
   "execution_count": 29,
   "id": "6c68f0e8",
   "metadata": {},
   "outputs": [
    {
     "name": "stdout",
     "output_type": "stream",
     "text": [
      "16\n",
      "1\n",
      "9\n",
      "25\n",
      "49\n"
     ]
    }
   ],
   "source": [
    "def square(number):\n",
    "    return number**2\n",
    "\n",
    "print(square(4))\n",
    "\n",
    "numbers = [1, 3, 5, 7]\n",
    "for number in numbers:\n",
    "    print(square(number))"
   ]
  },
  {
   "cell_type": "code",
   "execution_count": 30,
   "id": "4d3605e9",
   "metadata": {},
   "outputs": [
    {
     "name": "stdout",
     "output_type": "stream",
     "text": [
      "1 tektir.\n",
      "3 tektir.\n",
      "5 tektir.\n",
      "7 tektir.\n"
     ]
    }
   ],
   "source": [
    "def is_even(n):\n",
    "    return n%2==0\n",
    "\n",
    "def check_number(number):\n",
    "    if is_even(number):\n",
    "        print(f\"{number} çiftir.\")\n",
    "    else:\n",
    "        print(f\"{number} tektir.\")\n",
    "        \n",
    "for number in numbers:\n",
    "    check_number(number)"
   ]
  },
  {
   "cell_type": "code",
   "execution_count": 33,
   "id": "b4c57bd2",
   "metadata": {},
   "outputs": [
    {
     "name": "stdout",
     "output_type": "stream",
     "text": [
      "Ahmet 30 yaşındadır.\n",
      "Can 35 yaşındadır.\n",
      "Merve 19 yaşındadır.\n"
     ]
    }
   ],
   "source": [
    "def print_info(name, age):\n",
    "    print(f\"{name} {age} yaşındadır.\")\n",
    "    \n",
    "print_info(\"Ahmet\",30)\n",
    "print_info(age=35, name=\"Can\")\n",
    "print_info(name=\"Merve\", age=19)"
   ]
  },
  {
   "cell_type": "code",
   "execution_count": 34,
   "id": "bbdccb9e",
   "metadata": {},
   "outputs": [
    {
     "name": "stdout",
     "output_type": "stream",
     "text": [
      "Merhaba Misafir.\n",
      "Merhaba Ali.\n",
      "Merhaba Can.\n"
     ]
    }
   ],
   "source": [
    "def greet(name=\"Misafir\"):\n",
    "    print(f\"Merhaba {name}.\")\n",
    "    \n",
    "greet()\n",
    "greet(\"Ali\")\n",
    "greet(name=\"Can\")"
   ]
  },
  {
   "cell_type": "code",
   "execution_count": 35,
   "id": "5be36bab",
   "metadata": {},
   "outputs": [
    {
     "name": "stdout",
     "output_type": "stream",
     "text": [
      "5\n",
      "8\n",
      "17\n",
      "27\n"
     ]
    }
   ],
   "source": [
    "def add(*numbers):\n",
    "    total = 0\n",
    "    for n in numbers:\n",
    "        total += n\n",
    "    return total\n",
    "\n",
    "print(add(5))\n",
    "print(add(5,3))\n",
    "print(add(5,3,9))\n",
    "print(add(5,3,9,10))"
   ]
  },
  {
   "cell_type": "code",
   "execution_count": null,
   "id": "960ccb4b",
   "metadata": {},
   "outputs": [
    {
     "name": "stdout",
     "output_type": "stream",
     "text": [
      "name : Ahmet\n",
      "age : 18\n",
      "city : Samsun\n"
     ]
    }
   ],
   "source": [
    "def print_details(**info):\n",
    "    for key, value in info.items():\n",
    "        print(f\"{key} : {value}\")\n",
    "        \n",
    "print_details(name=\"Ahmet\", age=18, city=\"Samsun\")"
   ]
  },
  {
   "cell_type": "code",
   "execution_count": 42,
   "id": "69f6b2e3",
   "metadata": {},
   "outputs": [
    {
     "name": "stdout",
     "output_type": "stream",
     "text": [
      "name: Ahmet\n",
      "age : 18\n",
      "city : Samsun\n",
      "name: Hakan\n",
      "age : 18\n",
      "city : Sinop\n",
      "name: Misafir\n",
      "age : 22\n",
      "city : Tokat\n"
     ]
    }
   ],
   "source": [
    "def print_details(name=\"Misafir\", **info):\n",
    "    print(f\"name: {name}\")\n",
    "    for key, value in info.items():\n",
    "        print(f\"{key} : {value}\")\n",
    "        \n",
    "print_details(name=\"Ahmet\", age=18, city=\"Samsun\")\n",
    "print_details(\"Hakan\", age=18, city=\"Sinop\")\n",
    "print_details(age=22, city=\"Tokat\")"
   ]
  },
  {
   "cell_type": "code",
   "execution_count": null,
   "id": "c322ead7",
   "metadata": {},
   "outputs": [
    {
     "name": "stdout",
     "output_type": "stream",
     "text": [
      "Merhaba Can.\n"
     ]
    },
    {
     "ename": "NameError",
     "evalue": "name 'name' is not defined",
     "output_type": "error",
     "traceback": [
      "\u001b[31m---------------------------------------------------------------------------\u001b[39m",
      "\u001b[31mNameError\u001b[39m                                 Traceback (most recent call last)",
      "\u001b[36mCell\u001b[39m\u001b[36m \u001b[39m\u001b[32mIn[2]\u001b[39m\u001b[32m, line 6\u001b[39m\n\u001b[32m      3\u001b[39m     \u001b[38;5;28mprint\u001b[39m(\u001b[33m\"\u001b[39m\u001b[33mMerhaba\u001b[39m\u001b[33m\"\u001b[39m, name + \u001b[33m\"\u001b[39m\u001b[33m.\u001b[39m\u001b[33m\"\u001b[39m)\n\u001b[32m      5\u001b[39m message()\n\u001b[32m----> \u001b[39m\u001b[32m6\u001b[39m \u001b[38;5;28mprint\u001b[39m(\u001b[43mname\u001b[49m)\n",
      "\u001b[31mNameError\u001b[39m: name 'name' is not defined"
     ]
    }
   ],
   "source": [
    "def message():\n",
    "    name=\"Can\"\n",
    "    print(\"Merhaba\", name + \".\")\n",
    "    \n",
    "message()\n",
    "# print(name)"
   ]
  },
  {
   "cell_type": "code",
   "execution_count": 1,
   "id": "5aab49a8",
   "metadata": {},
   "outputs": [
    {
     "name": "stdout",
     "output_type": "stream",
     "text": [
      "Merhaba  Zeynep Can.\n",
      "Zeynep Can\n"
     ]
    }
   ],
   "source": [
    "name = \"Zeynep\"\n",
    "\n",
    "def display():\n",
    "    global name  \n",
    "    name = \"Zeynep Can\"\n",
    "    print(\"Merhaba \", name + \".\")\n",
    "\n",
    "display()\n",
    "print(name)"
   ]
  },
  {
   "cell_type": "code",
   "execution_count": null,
   "id": "23713e19",
   "metadata": {},
   "outputs": [
    {
     "name": "stdout",
     "output_type": "stream",
     "text": [
      "10\n",
      "Help on function add in module __main__:\n",
      "\n",
      "add(a, b)\n",
      "    Bu fonksiyon iki sayıyı toplar.\n",
      "\n",
      "    Parametreler\n",
      "    a (int, float): Birinci sayı\n",
      "    b (int, float): İkinci sayı\n",
      "\n",
      "    Dönüş:\n",
      "    int veya float : Toplam değer\n",
      "\n"
     ]
    }
   ],
   "source": [
    "def add(a,b):\n",
    "    \"\"\"\n",
    "    Bu fonksiyon iki sayıyı toplar.\n",
    "    \n",
    "    Parametreler\n",
    "    a (int, float): Birinci sayı\n",
    "    b (int, float): İkinci sayı\n",
    "    \n",
    "    Dönüş:\n",
    "    int veya float : Toplam değer\n",
    "    \"\"\"\n",
    "    return a+b\n",
    "\n",
    "print(add(4,6))\n",
    "# help(add)"
   ]
  },
  {
   "cell_type": "code",
   "execution_count": 6,
   "id": "a0c65c87",
   "metadata": {},
   "outputs": [
    {
     "name": "stdout",
     "output_type": "stream",
     "text": [
      "Help on class type in module builtins:\n",
      "\n",
      "class type(object)\n",
      " |  type(object) -> the object's type\n",
      " |  type(name, bases, dict, **kwds) -> a new type\n",
      " |\n",
      " |  Methods defined here:\n",
      " |\n",
      " |  __call__(self, /, *args, **kwargs)\n",
      " |      Call self as a function.\n",
      " |\n",
      " |  __delattr__(self, name, /)\n",
      " |      Implement delattr(self, name).\n",
      " |\n",
      " |  __dir__(self, /)\n",
      " |      Specialized __dir__ implementation for types.\n",
      " |\n",
      " |  __getattribute__(self, name, /)\n",
      " |      Return getattr(self, name).\n",
      " |\n",
      " |  __init__(self, /, *args, **kwargs)\n",
      " |      Initialize self.  See help(type(self)) for accurate signature.\n",
      " |\n",
      " |  __instancecheck__(self, instance, /)\n",
      " |      Check if an object is an instance.\n",
      " |\n",
      " |  __or__(self, value, /)\n",
      " |      Return self|value.\n",
      " |\n",
      " |  __repr__(self, /)\n",
      " |      Return repr(self).\n",
      " |\n",
      " |  __ror__(self, value, /)\n",
      " |      Return value|self.\n",
      " |\n",
      " |  __setattr__(self, name, value, /)\n",
      " |      Implement setattr(self, name, value).\n",
      " |\n",
      " |  __sizeof__(self, /)\n",
      " |      Return memory consumption of the type object.\n",
      " |\n",
      " |  __subclasscheck__(self, subclass, /)\n",
      " |      Check if a class is a subclass.\n",
      " |\n",
      " |  __subclasses__(self, /)\n",
      " |      Return a list of immediate subclasses.\n",
      " |\n",
      " |  mro(self, /)\n",
      " |      Return a type's method resolution order.\n",
      " |\n",
      " |  ----------------------------------------------------------------------\n",
      " |  Class methods defined here:\n",
      " |\n",
      " |  __prepare__(...)\n",
      " |      __prepare__() -> dict\n",
      " |      used to create the namespace for the class statement\n",
      " |\n",
      " |  ----------------------------------------------------------------------\n",
      " |  Static methods defined here:\n",
      " |\n",
      " |  __new__(*args, **kwargs)\n",
      " |      Create and return a new object.  See help(type) for accurate signature.\n",
      " |\n",
      " |  ----------------------------------------------------------------------\n",
      " |  Data descriptors defined here:\n",
      " |\n",
      " |  __abstractmethods__\n",
      " |\n",
      " |  __annotations__\n",
      " |\n",
      " |  __dict__\n",
      " |\n",
      " |  __text_signature__\n",
      " |\n",
      " |  ----------------------------------------------------------------------\n",
      " |  Data and other attributes defined here:\n",
      " |\n",
      " |  __base__ = <class 'object'>\n",
      " |      The base class of the class hierarchy.\n",
      " |\n",
      " |      When called, it accepts no arguments and returns a new featureless\n",
      " |      instance that has no instance attributes and cannot be given any.\n",
      " |\n",
      " |\n",
      " |  __bases__ = (<class 'object'>,)\n",
      " |\n",
      " |  __basicsize__ = 920\n",
      " |\n",
      " |  __dictoffset__ = 264\n",
      " |\n",
      " |  __flags__ = 2156420354\n",
      " |\n",
      " |  __itemsize__ = 40\n",
      " |\n",
      " |  __mro__ = (<class 'type'>, <class 'object'>)\n",
      " |\n",
      " |  __type_params__ = ()\n",
      " |\n",
      " |  __weakrefoffset__ = 368\n",
      "\n"
     ]
    }
   ],
   "source": [
    "help(type)"
   ]
  },
  {
   "cell_type": "code",
   "execution_count": 12,
   "id": "72fd8329",
   "metadata": {},
   "outputs": [
    {
     "name": "stdout",
     "output_type": "stream",
     "text": [
      "5.0\n",
      "Sıfıra bölme hatası!\n"
     ]
    }
   ],
   "source": [
    "def divide(a,b):\n",
    "    try:\n",
    "        return a/b\n",
    "    except ZeroDivisionError:\n",
    "        return \"Sıfıra bölme hatası!\"\n",
    "    except:\n",
    "        return \"Hata!\"\n",
    "\n",
    "print(divide(10,2))\n",
    "print(divide(10,0))"
   ]
  },
  {
   "cell_type": "code",
   "execution_count": 13,
   "id": "aaf084cd",
   "metadata": {},
   "outputs": [
    {
     "name": "stdout",
     "output_type": "stream",
     "text": [
      "Girilen sayı: 42\n",
      "Kontrol sağlandı.\n",
      "Lütfen sayısal bir değer giriniz!\n",
      "Kontrol sağlandı.\n"
     ]
    }
   ],
   "source": [
    "def check_value(value):\n",
    "    try:\n",
    "        number = int(value)\n",
    "    except ValueError:\n",
    "        print(\"Lütfen sayısal bir değer giriniz!\")\n",
    "    else:\n",
    "        print(f\"Girilen sayı: {number}\")\n",
    "    finally:\n",
    "        print(\"Kontrol sağlandı.\")\n",
    "        \n",
    "check_value(42)\n",
    "check_value(\"merhaba\")"
   ]
  },
  {
   "cell_type": "code",
   "execution_count": 17,
   "id": "73dc8522",
   "metadata": {},
   "outputs": [
    {
     "name": "stdout",
     "output_type": "stream",
     "text": [
      "120\n"
     ]
    },
    {
     "ename": "ValueError",
     "evalue": "Negatif sayıların faktöriyeli alınmaz!",
     "output_type": "error",
     "traceback": [
      "\u001b[31m---------------------------------------------------------------------------\u001b[39m",
      "\u001b[31mValueError\u001b[39m                                Traceback (most recent call last)",
      "\u001b[36mCell\u001b[39m\u001b[36m \u001b[39m\u001b[32mIn[17]\u001b[39m\u001b[32m, line 10\u001b[39m\n\u001b[32m      7\u001b[39m     \u001b[38;5;28;01mreturn\u001b[39;00m result\n\u001b[32m      9\u001b[39m \u001b[38;5;28mprint\u001b[39m(factorial(\u001b[32m5\u001b[39m)) \u001b[38;5;66;03m# 120\u001b[39;00m\n\u001b[32m---> \u001b[39m\u001b[32m10\u001b[39m \u001b[43mfactorial\u001b[49m\u001b[43m(\u001b[49m\u001b[43m-\u001b[49m\u001b[32;43m3\u001b[39;49m\u001b[43m)\u001b[49m\n",
      "\u001b[36mCell\u001b[39m\u001b[36m \u001b[39m\u001b[32mIn[17]\u001b[39m\u001b[32m, line 3\u001b[39m, in \u001b[36mfactorial\u001b[39m\u001b[34m(n)\u001b[39m\n\u001b[32m      1\u001b[39m \u001b[38;5;28;01mdef\u001b[39;00m\u001b[38;5;250m \u001b[39m\u001b[34mfactorial\u001b[39m(n):\n\u001b[32m      2\u001b[39m     \u001b[38;5;28;01mif\u001b[39;00m n<\u001b[32m0\u001b[39m:\n\u001b[32m----> \u001b[39m\u001b[32m3\u001b[39m         \u001b[38;5;28;01mraise\u001b[39;00m \u001b[38;5;167;01mValueError\u001b[39;00m(\u001b[33m\"\u001b[39m\u001b[33mNegatif sayıların faktöriyeli alınmaz!\u001b[39m\u001b[33m\"\u001b[39m)\n\u001b[32m      4\u001b[39m     result = \u001b[32m1\u001b[39m\n\u001b[32m      5\u001b[39m     \u001b[38;5;28;01mfor\u001b[39;00m i \u001b[38;5;129;01min\u001b[39;00m \u001b[38;5;28mrange\u001b[39m(\u001b[32m1\u001b[39m, n+\u001b[32m1\u001b[39m):\n",
      "\u001b[31mValueError\u001b[39m: Negatif sayıların faktöriyeli alınmaz!"
     ]
    }
   ],
   "source": [
    "def factorial(n):\n",
    "    if n<0:\n",
    "        raise ValueError(\"Negatif sayıların faktöriyeli alınmaz!\")\n",
    "    result = 1\n",
    "    for i in range(1, n+1):\n",
    "        result*=i\n",
    "    return result\n",
    "\n",
    "print(factorial(5)) # 120\n",
    "factorial(-3)"
   ]
  }
 ],
 "metadata": {
  "kernelspec": {
   "display_name": "btk-akademi-programlama",
   "language": "python",
   "name": "python3"
  },
  "language_info": {
   "codemirror_mode": {
    "name": "ipython",
    "version": 3
   },
   "file_extension": ".py",
   "mimetype": "text/x-python",
   "name": "python",
   "nbconvert_exporter": "python",
   "pygments_lexer": "ipython3",
   "version": "3.12.11"
  }
 },
 "nbformat": 4,
 "nbformat_minor": 5
}
