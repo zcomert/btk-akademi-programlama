{
 "cells": [
  {
   "cell_type": "code",
   "execution_count": 2,
   "id": "d4fc4ac2",
   "metadata": {},
   "outputs": [
    {
     "name": "stdout",
     "output_type": "stream",
     "text": [
      "[[2, 2, 5], [6, 4, 9], [3, 1, 4]]\n"
     ]
    }
   ],
   "source": [
    "import random\n",
    "n = 3\n",
    "matris = []\n",
    "for i in range(n):\n",
    "    satir=[]\n",
    "    for j in range(n):\n",
    "        satir.append(random.randint(1,10))\n",
    "    matris.append(satir)\n",
    "print(matris)"
   ]
  },
  {
   "cell_type": "code",
   "execution_count": 4,
   "id": "d22d48ed",
   "metadata": {},
   "outputs": [],
   "source": [
    "for i in range(n):\n",
    "    for j in range(n):\n",
    "        if i<j:\n",
    "            matris[i][j]=0"
   ]
  },
  {
   "cell_type": "code",
   "execution_count": 5,
   "id": "f3e0a4e0",
   "metadata": {},
   "outputs": [
    {
     "name": "stdout",
     "output_type": "stream",
     "text": [
      "   2    0    0 \n",
      "   6    4    0 \n",
      "   3    1    4 \n"
     ]
    }
   ],
   "source": [
    "for i in range(n):\n",
    "    for j in range(n):\n",
    "        print(f\"{matris[i][j]:4d}\", end=' ')\n",
    "    print(\"\")"
   ]
  }
 ],
 "metadata": {
  "kernelspec": {
   "display_name": "btk-akademi-programlama",
   "language": "python",
   "name": "python3"
  },
  "language_info": {
   "codemirror_mode": {
    "name": "ipython",
    "version": 3
   },
   "file_extension": ".py",
   "mimetype": "text/x-python",
   "name": "python",
   "nbconvert_exporter": "python",
   "pygments_lexer": "ipython3",
   "version": "3.12.11"
  }
 },
 "nbformat": 4,
 "nbformat_minor": 5
}
