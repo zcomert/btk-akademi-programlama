{
 "cells": [
  {
   "cell_type": "code",
   "execution_count": 5,
   "id": "2623ff15",
   "metadata": {},
   "outputs": [],
   "source": [
    "sayilar = [10, 5, 8, 9, 23, 55]"
   ]
  },
  {
   "cell_type": "code",
   "execution_count": 7,
   "id": "60de5604",
   "metadata": {},
   "outputs": [
    {
     "name": "stdout",
     "output_type": "stream",
     "text": [
      "10\n",
      "9\n"
     ]
    }
   ],
   "source": [
    "print(sayilar[0])\n",
    "print(sayilar[3])"
   ]
  },
  {
   "cell_type": "code",
   "execution_count": 8,
   "id": "dd71e9d9",
   "metadata": {},
   "outputs": [
    {
     "name": "stdout",
     "output_type": "stream",
     "text": [
      "filiz\n",
      "merve\n"
     ]
    }
   ],
   "source": [
    "isimler = [\"ahmet\",\"can\",\"merve\",\"filiz\"]\n",
    "print(isimler[-1])\n",
    "print(isimler[-2])"
   ]
  },
  {
   "cell_type": "code",
   "execution_count": 9,
   "id": "0a1cc735",
   "metadata": {},
   "outputs": [
    {
     "name": "stdout",
     "output_type": "stream",
     "text": [
      "[5, 'Merhaba', True, 3.14, False]\n"
     ]
    }
   ],
   "source": [
    "karisik = [5, \"Merhaba\", True, 3.14, False]\n",
    "print(karisik)"
   ]
  },
  {
   "cell_type": "code",
   "execution_count": null,
   "id": "1cb28c9c",
   "metadata": {},
   "outputs": [],
   "source": [
    "sayilar.append(-5)\n",
    "print(sayilar)"
   ]
  },
  {
   "cell_type": "code",
   "execution_count": 15,
   "id": "e8448a11",
   "metadata": {},
   "outputs": [
    {
     "name": "stdout",
     "output_type": "stream",
     "text": [
      "[10, 44, 5, 8, 9, 23, 55, -5]\n"
     ]
    }
   ],
   "source": [
    "sayilar.insert(1,44)\n",
    "print(sayilar)"
   ]
  },
  {
   "cell_type": "code",
   "execution_count": 16,
   "id": "f564de87",
   "metadata": {},
   "outputs": [
    {
     "data": {
      "text/plain": [
       "[10, 44, 5, 8, 9, 23, 55, -5]"
      ]
     },
     "execution_count": 16,
     "metadata": {},
     "output_type": "execute_result"
    }
   ],
   "source": [
    "sayilar"
   ]
  },
  {
   "cell_type": "code",
   "execution_count": null,
   "id": "bdab91ed",
   "metadata": {},
   "outputs": [],
   "source": [
    "cikarilan_eleman = sayilar.pop()\n",
    "print(cikarilan_eleman)\n"
   ]
  },
  {
   "cell_type": "code",
   "execution_count": 19,
   "id": "ee46c58e",
   "metadata": {},
   "outputs": [
    {
     "data": {
      "text/plain": [
       "[10, 44, 5, 8, 9, 23, 55]"
      ]
     },
     "execution_count": 19,
     "metadata": {},
     "output_type": "execute_result"
    }
   ],
   "source": [
    "sayilar"
   ]
  },
  {
   "cell_type": "code",
   "execution_count": 20,
   "id": "ed6d3740",
   "metadata": {},
   "outputs": [
    {
     "name": "stdout",
     "output_type": "stream",
     "text": [
      "[44, 5, 8, 9, 23, 55]\n"
     ]
    }
   ],
   "source": [
    "sayilar.pop(0)\n",
    "print(sayilar)"
   ]
  },
  {
   "cell_type": "code",
   "execution_count": 21,
   "id": "315f6db6",
   "metadata": {},
   "outputs": [
    {
     "data": {
      "text/plain": [
       "[44, 5, 8, 9, 23, 55]"
      ]
     },
     "execution_count": 21,
     "metadata": {},
     "output_type": "execute_result"
    }
   ],
   "source": [
    "sayilar"
   ]
  },
  {
   "cell_type": "code",
   "execution_count": 22,
   "id": "198c14ac",
   "metadata": {},
   "outputs": [
    {
     "name": "stdout",
     "output_type": "stream",
     "text": [
      "[5, 8, 9, 23, 44, 55]\n"
     ]
    }
   ],
   "source": [
    "sayilar.sort()\n",
    "print(sayilar)"
   ]
  },
  {
   "cell_type": "code",
   "execution_count": 23,
   "id": "904114b0",
   "metadata": {},
   "outputs": [
    {
     "name": "stdout",
     "output_type": "stream",
     "text": [
      "[55, 44, 23, 9, 8, 5]\n"
     ]
    }
   ],
   "source": [
    "sayilar.reverse()\n",
    "print(sayilar)"
   ]
  },
  {
   "cell_type": "code",
   "execution_count": 24,
   "id": "b95e6a1c",
   "metadata": {},
   "outputs": [
    {
     "data": {
      "text/plain": [
       "6"
      ]
     },
     "execution_count": 24,
     "metadata": {},
     "output_type": "execute_result"
    }
   ],
   "source": [
    "len(sayilar)"
   ]
  },
  {
   "cell_type": "code",
   "execution_count": null,
   "id": "1148b467",
   "metadata": {},
   "outputs": [],
   "source": [
    "sayilar.append(16)\n",
    "print(sayilar)"
   ]
  },
  {
   "cell_type": "code",
   "execution_count": 30,
   "id": "43cb4424",
   "metadata": {},
   "outputs": [
    {
     "name": "stdout",
     "output_type": "stream",
     "text": [
      "[5, 8, 9, 16, 23, 44, 55]\n"
     ]
    }
   ],
   "source": [
    "sayilar = sorted(sayilar)\n",
    "print(sayilar)"
   ]
  },
  {
   "cell_type": "code",
   "execution_count": 31,
   "id": "6d41b43b",
   "metadata": {},
   "outputs": [
    {
     "data": {
      "text/plain": [
       "[5, 8, 9, 16, 23, 44, 55]"
      ]
     },
     "execution_count": 31,
     "metadata": {},
     "output_type": "execute_result"
    }
   ],
   "source": [
    "sayilar"
   ]
  },
  {
   "cell_type": "code",
   "execution_count": 32,
   "id": "64bb6ba6",
   "metadata": {},
   "outputs": [
    {
     "name": "stdout",
     "output_type": "stream",
     "text": [
      "[5, 8, 9, 23, 44, 55]\n"
     ]
    }
   ],
   "source": [
    "sayilar.remove(16)\n",
    "print(sayilar)"
   ]
  },
  {
   "cell_type": "code",
   "execution_count": 34,
   "id": "fc3d9ebd",
   "metadata": {},
   "outputs": [
    {
     "data": {
      "text/plain": [
       "44"
      ]
     },
     "execution_count": 34,
     "metadata": {},
     "output_type": "execute_result"
    }
   ],
   "source": [
    "sayilar.pop(-2)"
   ]
  },
  {
   "cell_type": "code",
   "execution_count": 35,
   "id": "54f19eb9",
   "metadata": {},
   "outputs": [
    {
     "name": "stdout",
     "output_type": "stream",
     "text": [
      "[5, 8, 9, 23, 55]\n"
     ]
    }
   ],
   "source": [
    "print(sayilar)"
   ]
  }
 ],
 "metadata": {
  "language_info": {
   "name": "python"
  }
 },
 "nbformat": 4,
 "nbformat_minor": 5
}
