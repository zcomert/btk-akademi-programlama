{
 "cells": [
  {
   "cell_type": "code",
   "execution_count": 40,
   "id": "bcb7785c",
   "metadata": {},
   "outputs": [
    {
     "name": "stdout",
     "output_type": "stream",
     "text": [
      "Merhaba dünya!\n",
      "<class 'str'>\n"
     ]
    }
   ],
   "source": [
    "message = \"Merhaba dünya!\"\n",
    "print(message)\n",
    "print(type(message))"
   ]
  },
  {
   "cell_type": "code",
   "execution_count": null,
   "id": "6dfdd733",
   "metadata": {},
   "outputs": [
    {
     "name": "stdout",
     "output_type": "stream",
     "text": [
      "Ali Ahmet\n"
     ]
    }
   ],
   "source": [
    "# Tırnak \n",
    "name1 = 'Ali'\n",
    "name2 = \"Ahmet\"\n",
    "print(name1, name2)"
   ]
  },
  {
   "cell_type": "code",
   "execution_count": null,
   "id": "3ba27168",
   "metadata": {},
   "outputs": [
    {
     "name": "stdout",
     "output_type": "stream",
     "text": [
      "Ali dedi ki: 'Python öğreniyorum.'\n"
     ]
    }
   ],
   "source": [
    "sentence = \"Ali dedi ki: 'Python öğreniyorum.'\"\n",
    "print(sentence)"
   ]
  },
  {
   "cell_type": "code",
   "execution_count": 45,
   "id": "a28f6f3e",
   "metadata": {},
   "outputs": [
    {
     "name": "stdout",
     "output_type": "stream",
     "text": [
      "Ali dedi ki: 'Python öğreniyorum.'\n"
     ]
    }
   ],
   "source": [
    "sentence = 'Ali dedi ki: \\'Python öğreniyorum.\\''\n",
    "print(sentence)"
   ]
  },
  {
   "cell_type": "code",
   "execution_count": null,
   "id": "c4c757ce",
   "metadata": {},
   "outputs": [
    {
     "name": "stdout",
     "output_type": "stream",
     "text": [
      "Bir hava güzel.\n",
      "Dışarı çıkacağım.\n",
      "Kahve içeceğim.\n",
      "Arkadaşlarımla görüşeceğim.\n",
      "Eve döneceğim.\n",
      "\n"
     ]
    }
   ],
   "source": [
    "expression = \"\"\"Bir hava güzel.\n",
    "Dışarı çıkacağım.\n",
    "Kahve içeceğim.\n",
    "Arkadaşlarımla görüşeceğim.\n",
    "Eve döneceğim.\n",
    "\"\"\"\n",
    "print(expression)"
   ]
  },
  {
   "cell_type": "code",
   "execution_count": null,
   "id": "2f487c79",
   "metadata": {},
   "outputs": [],
   "source": []
  }
 ],
 "metadata": {
  "kernelspec": {
   "display_name": "btk-akademi-programlama",
   "language": "python",
   "name": "python3"
  },
  "language_info": {
   "codemirror_mode": {
    "name": "ipython",
    "version": 3
   },
   "file_extension": ".py",
   "mimetype": "text/x-python",
   "name": "python",
   "nbconvert_exporter": "python",
   "pygments_lexer": "ipython3",
   "version": "3.12.11"
  }
 },
 "nbformat": 4,
 "nbformat_minor": 5
}
